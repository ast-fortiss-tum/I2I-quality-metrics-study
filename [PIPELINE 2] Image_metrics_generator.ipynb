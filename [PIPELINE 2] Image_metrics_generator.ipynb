{
 "cells": [
  {
   "cell_type": "markdown",
   "id": "c36bc1aa",
   "metadata": {},
   "source": [
    "# Image metrics generator\n",
    "This notebook uses the images folders generated using [PIPELINE 1] and produces the image metric values for each image.\n",
    "\n",
    "## Usage:\n",
    "Run all cells\n",
    "\n",
    "## Requirements:\n",
    "-Image folders:\\\n",
    "    ./[task_type]/content/output_plots/[domain_type]/[domain_type]\n",
    "\n",
    "## Outputs:\n",
    "    ./[task_type]/content/output_plots/[domain_type]/[domain_type]_metrics_results"
   ]
  },
  {
   "cell_type": "code",
   "execution_count": null,
   "id": "b463868d",
   "metadata": {},
   "outputs": [],
   "source": [
    "import os\n",
    "import cv2\n",
    "import numpy as np\n",
    "import tensorflow as tf\n",
    "import scipy\n",
    "from skimage.metrics import structural_similarity as ssim\n",
    "from scipy.stats import entropy\n",
    "from sklearn.metrics import normalized_mutual_info_score\n",
    "from skimage.feature import graycomatrix, graycoprops\n",
    "from sklearn.metrics import mutual_info_score\n",
    "from tensorflow.keras.applications import ResNet50\n",
    "from tensorflow.keras.applications.resnet50 import preprocess_input\n",
    "from scipy.linalg import sqrtm\n",
    "import json\n",
    "import glob\n",
    "from scipy.stats import entropy\n",
    "from scipy.linalg import sqrtm\n",
    "import numpy as np\n",
    "import tensorflow as tf\n",
    "from tensorflow.keras.applications.inception_v3 import InceptionV3\n",
    "from tensorflow.keras.applications.inception_v3 import preprocess_input\n",
    "from tensorflow.keras.models import Model\n",
    "import warnings\n",
    "from sklearn.neighbors import KernelDensity\n",
    "import tensorflow as tf\n",
    "from tensorflow.keras.applications.vgg16 import VGG16\n",
    "from tensorflow.keras.applications.vgg16 import preprocess_input\n",
    "from tensorflow.keras.models import Model\n",
    "from tensorflow.keras.metrics import MeanSquaredError\n",
    "\n",
    "from tensorflow.keras.applications.vgg16 import VGG16, preprocess_input\n",
    "from tensorflow.keras.models import Model\n",
    "from sklearn.metrics.pairwise import cosine_similarity\n",
    "from scipy.linalg import sqrtm\n",
    "import tensorflow as tf\n",
    "import numpy as np\n",
    "from sklearn.neighbors import KernelDensity\n",
    "from multiprocessing import Pool\n",
    "\n",
    "\n",
    "\n",
    "\n",
    "def calculate_ssim(img1, img2):\n",
    "    return ssim(img1, img2, multichannel=True,channel_axis=2)\n",
    "\n",
    "\n",
    "def calculate_psnr(img1, img2):\n",
    "    mse = np.mean((img1 - img2) ** 2)\n",
    "    max_value = 255.0\n",
    "    psnr = 20 * np.log10(max_value / np.sqrt(mse))\n",
    "    return psnr\n",
    "\n",
    "def calculate_mse(img1, img2):\n",
    "    return np.mean((img1 - img2) ** 2)\n",
    "\n",
    "\n",
    "def calculate_cosine_similarity(images_1, images_2):\n",
    "    cosine_similarities = []\n",
    "    for i in range(len(images_1)):\n",
    "        preprocessed_image_1 = preprocess_input(images_1[i])\n",
    "        preprocessed_image_2 = preprocess_input(images_2[i])\n",
    "        features_1 = model.predict(np.array([preprocessed_image_1]))\n",
    "        features_2 = model.predict(np.array([preprocessed_image_2]))\n",
    "        features_1 = features_1.reshape(1, -1)\n",
    "        features_2 = features_2.reshape(1, -1)\n",
    "        similarity = cosine_similarity(features_1, features_2)\n",
    "        cosine_similarities.append(similarity[0, 0])\n",
    "        if i % 10 == 0:\n",
    "            print(i, \" out of \", len(images_1))\n",
    "\n",
    "    return cosine_similarities\n",
    "\n",
    "\n",
    "\n",
    "def calculate_histogram_similarity(hist1, hist2):\n",
    "    return cv2.compareHist(hist1, hist2, cv2.HISTCMP_INTERSECT)\n",
    "\n",
    "def calculate_correlation_coefficient(img1, img2):\n",
    "    img1_gray = cv2.cvtColor(img1, cv2.COLOR_BGR2GRAY)\n",
    "    img2_gray = cv2.cvtColor(img2, cv2.COLOR_BGR2GRAY)\n",
    "    corr_coeff = np.corrcoef(img1_gray.ravel(), img2_gray.ravel())[0, 1]\n",
    "    return corr_coeff\n",
    "\n",
    "def calculate_lbp_histogram_similarity(img1, img2):\n",
    "    lbp1 = cv2.calcHist([cv2.Laplacian(img1, cv2.CV_64F)], [0], None, [256], [0, 256])\n",
    "    lbp2 = cv2.calcHist([cv2.Laplacian(img2, cv2.CV_64F)], [0], None, [256], [0, 256])\n",
    "    return calculate_histogram_similarity(lbp1, lbp2)\n",
    "\n",
    "\n",
    "def calculate_normalized_mutual_info(images1, images2):\n",
    "    nmi_scores = []\n",
    "    for img1, img2 in zip(images1, images2):\n",
    "        hist1 = cv2.calcHist([cv2.cvtColor(img1, cv2.COLOR_BGR2GRAY)], [0], None, [256], [0, 256])\n",
    "        hist2 = cv2.calcHist([cv2.cvtColor(img2, cv2.COLOR_BGR2GRAY)], [0], None, [256], [0, 256])\n",
    "        hist1 /= np.sum(hist1)\n",
    "        hist2 /= np.sum(hist2)\n",
    "        nmi_score = normalized_mutual_info_score(hist1.flatten(), hist2.flatten())\n",
    "        nmi_scores.append(nmi_score)\n",
    "    return nmi_scores\n",
    "\n",
    "def calculate_texture_similarity(images1, images2):\n",
    "    glcm_distances = [1, 2, 3]\n",
    "    texture_sims = []\n",
    "\n",
    "    for img1, img2 in zip(images1, images2):\n",
    "        gray_img1 = cv2.cvtColor(img1, cv2.COLOR_BGR2GRAY)\n",
    "        gray_img2 = cv2.cvtColor(img2, cv2.COLOR_BGR2GRAY)\n",
    "        glcm1 = graycomatrix(gray_img1, distances=glcm_distances, angles=[0], symmetric=True, normed=True)\n",
    "        glcm2 = graycomatrix(gray_img2, distances=glcm_distances, angles=[0], symmetric=True, normed=True)\n",
    "        texture_sim = 0.0\n",
    "        for distance in glcm_distances:\n",
    "            props = ['contrast', 'dissimilarity', 'homogeneity', 'energy', 'correlation']\n",
    "            for prop in props:\n",
    "                prop_val1 = graycoprops(glcm1, prop)[ 0, 0]\n",
    "                prop_val2 = graycoprops(glcm2, prop)[ 0, 0]\n",
    "                texture_sim += np.abs(prop_val1 - prop_val2)\n",
    "        \n",
    "        texture_sims.append(texture_sim)\n",
    "    return texture_sims\n",
    "\n",
    "\n",
    "def calculate_wd(images1, images2):\n",
    "    wasserstein_distances = []\n",
    "    for img1, img2 in zip(images1, images2):\n",
    "        img1_flat = img1.flatten()\n",
    "        img2_flat = img2.flatten()\n",
    "        hist1 = np.histogram(img1_flat, bins=256, range=(0, 256), density=True)[0]\n",
    "        hist2 = np.histogram(img2_flat, bins=256, range=(0, 256), density=True)[0]\n",
    "        w_distance = scipy.stats.wasserstein_distance(hist1, hist2)\n",
    "        wasserstein_distances.append(w_distance)\n",
    "    return wasserstein_distances\n",
    "    \n",
    "\n",
    "def calculate_kl_divergence(images1, images2, epsilon=1e-10):\n",
    "    kl_divergences = []\n",
    "    for img1, img2 in zip(images1, images2):\n",
    "        img1_flat = img1.flatten()\n",
    "        img2_flat = img2.flatten()\n",
    "        hist1, bin_edges1 = np.histogram(img1_flat, bins=256, range=(0, 256), density=True)\n",
    "        hist2, bin_edges2 = np.histogram(img2_flat, bins=256, range=(0, 256), density=True)\n",
    "        hist1 = hist1 / np.sum(hist1)\n",
    "        hist2 = hist2 / np.sum(hist2)\n",
    "        hist1 += epsilon\n",
    "        hist2 += epsilon\n",
    "        kl_divergence = entropy(hist1, hist2)\n",
    "        kl_divergences.append(kl_divergence)\n",
    "    return kl_divergences\n",
    "\n",
    "base_model = VGG16(weights='imagenet', include_top=False)\n",
    "model = Model(inputs=base_model.input, outputs=base_model.get_layer('block5_conv3').output)\n",
    "model.compile()\n",
    "\n",
    "def calculate_perceptual_distances(images_1, images_2):\n",
    "    perceptual_distances = []\n",
    "    for i in range(len(images_1)):\n",
    "        preprocessed_image_1 = preprocess_input(images_1[i])\n",
    "        preprocessed_image_2 = preprocess_input(images_2[i])\n",
    "        features_1 = model.predict(np.array([preprocessed_image_1]))\n",
    "        features_2 = model.predict(np.array([preprocessed_image_2]))\n",
    "        mse = MeanSquaredError()\n",
    "        mse.update_state(features_1, features_2)\n",
    "        perceptual_distances.append(mse.result().numpy())\n",
    "    return perceptual_distances\n",
    "\n",
    "\n",
    "def calculate_histogram_intersection(images1, images2):\n",
    "    hist_int_scores = []\n",
    "    for img1, img2 in zip(images1, images2):\n",
    "        hist1 = cv2.calcHist([img1], [i for i in range(img1.shape[2])], None, [256] * img1.shape[2], [0, 256] * img1.shape[2])\n",
    "        hist2 = cv2.calcHist([img2], [i for i in range(img2.shape[2])], None, [256] * img2.shape[2], [0, 256] * img2.shape[2])\n",
    "        hist_int_score = np.sum(np.minimum(hist1, hist2)) / np.sum(hist1)\n",
    "        hist_int_scores.append(hist_int_score)\n",
    "    return hist_int_scores\n",
    "\n",
    "\n",
    "\n",
    "def load_images_from_folder(folder_path):\n",
    "    images = []\n",
    "    paths = []\n",
    "    for img_path in sorted(glob.glob(folder_path+'*.png')):\n",
    "        if os.path.isfile(img_path):\n",
    "            img = cv2.imread(img_path)\n",
    "            if img is not None:\n",
    "                images.append(img)\n",
    "                paths.append(img_path)\n",
    "    return np.array(images),np.array(paths)\n",
    "\n",
    "\n",
    "def calculate_inception_score(image_set1, image_set2, batch_size=32):\n",
    "    inception_model = InceptionV3(weights='imagenet', include_top=False)\n",
    "    inception_model = Model(inputs=inception_model.input, outputs=inception_model.layers[-2].output)\n",
    "    def _get_predictions(images):\n",
    "        n_batches = len(images) // batch_size\n",
    "        preds = []\n",
    "        for i in range(n_batches):\n",
    "            batch = images[i * batch_size:(i + 1) * batch_size]\n",
    "            batch = preprocess_input(batch)\n",
    "            pred = inception_model.predict(batch)\n",
    "            preds.append(pred)\n",
    "        preds = np.concatenate(preds, axis=0)\n",
    "        return preds\n",
    "\n",
    "    preds_set1 = _get_predictions(image_set1)\n",
    "    preds_set2 = _get_predictions(image_set2)\n",
    "    p_yx_set1 = np.mean(preds_set1, axis=0)\n",
    "    p_yx_set2 = np.mean(preds_set2, axis=0)\n",
    "    epsilon = 1e-10\n",
    "    p_yx_set1 = p_yx_set1 / np.sum(p_yx_set1)\n",
    "    p_yx_set2 = p_yx_set2 / np.sum(p_yx_set2)\n",
    "    p_yx_set1 += epsilon\n",
    "    p_yx_set2 += epsilon\n",
    "    kl_divergence = np.sum(p_yx_set1 * np.log(p_yx_set1 / p_yx_set2))\n",
    "    score = np.exp(kl_divergence)\n",
    "\n",
    "    return score\n",
    "\n",
    "\n",
    "def calculate_fid(real_images, generated_images, batch_size=32, downsample_factor=4):\n",
    "    inception_model = InceptionV3(weights='imagenet', include_top=False)\n",
    "    inception_model = Model(inputs=inception_model.input, outputs=inception_model.layers[-2].output)\n",
    "    def _get_activations(images):\n",
    "        n_batches = len(images) // batch_size\n",
    "        activations = []\n",
    "        for i in range(n_batches):\n",
    "            print(\"batch \",i,\" of \",n_batches)\n",
    "            batch = images[i * batch_size:(i + 1) * batch_size]\n",
    "            batch = preprocess_input(batch)\n",
    "            batch_activations = inception_model.predict(batch)\n",
    "            new_height = max(1, batch_activations.shape[1] // downsample_factor)\n",
    "            new_width = max(1, batch_activations.shape[2] // downsample_factor)\n",
    "            batch_activations = tf.image.resize(batch_activations, (new_height, new_width))\n",
    "            activations.append(batch_activations)\n",
    "            tf.keras.backend.clear_session()\n",
    "        activations = np.concatenate(activations, axis=0)\n",
    "        return activations\n",
    "\n",
    "    real_activations = _get_activations(real_images)\n",
    "    generated_activations = _get_activations(generated_images)\n",
    "    real_activations = real_activations.reshape(real_activations.shape[0], -1)\n",
    "    generated_activations = generated_activations.reshape(generated_activations.shape[0], -1)\n",
    "    mean_real_activations = np.mean(real_activations, axis=0)\n",
    "    cov_real_activations = np.cov(real_activations, rowvar=False)\n",
    "    mean_generated_activations = np.mean(generated_activations, axis=0)\n",
    "    cov_generated_activations = np.cov(generated_activations, rowvar=False)\n",
    "    mu1, sigma1 = mean_real_activations, cov_real_activations\n",
    "    mu2, sigma2 = mean_generated_activations, cov_generated_activations\n",
    "    warnings.filterwarnings(\"ignore\")\n",
    "    ssd = np.sum((mu1 - mu2) ** 2)\n",
    "    covmean = sqrtm(sigma1 @ sigma2)\n",
    "    if np.iscomplexobj(covmean):\n",
    "        covmean = covmean.real\n",
    "    fid = ssd + np.trace(sigma1 + sigma2 - 2.0 * covmean)\n",
    "    return fid\n",
    "\n",
    "def calculate_ifd(image):\n",
    "    if len(image.shape) == 3:\n",
    "        image = cv2.cvtColor(image, cv2.COLOR_BGR2GRAY)\n",
    "    _, binary_image = cv2.threshold(image, 128, 255, cv2.THRESH_BINARY)\n",
    "    non_zero_coordinates = np.column_stack(np.where(binary_image > 0))\n",
    "    max_box_size = int(min(binary_image.shape) / 2)\n",
    "    box_counts = []\n",
    "    for box_size in range(1, max_box_size + 1):\n",
    "        num_boxes = 0\n",
    "        for x in range(0, binary_image.shape[0], box_size):\n",
    "            for y in range(0, binary_image.shape[1], box_size):\n",
    "                if np.any(binary_image[x:x+box_size, y:y+box_size] > 0):\n",
    "                    num_boxes += 1\n",
    "        box_counts.append(num_boxes)\n",
    "    x = np.log(range(1, max_box_size + 1))\n",
    "    y = np.log(box_counts)\n",
    "    slope, intercept = np.polyfit(x, y, 1)\n",
    "    fractal_dimension = -slope\n",
    "    return fractal_dimension\n",
    "\n",
    "\n",
    "\n",
    "\n",
    "def calculate_kde(images, bandwidth=0.2, batch_size=32):\n",
    "    num_images = len(images)\n",
    "    kde_scores_list = []\n",
    "    kde_probs_list = []\n",
    "    kde = KernelDensity(bandwidth=bandwidth, kernel='gaussian', algorithm='auto', rtol=1e-4, atol=1e-4)\n",
    "    for start_idx in range(0, num_images, batch_size):\n",
    "        end_idx = min(start_idx + batch_size, num_images)\n",
    "        combined_images = np.concatenate(images[start_idx:end_idx])\n",
    "        num_samples, num_features = combined_images.shape[0], np.prod(combined_images.shape[1:])\n",
    "        combined_images = combined_images.reshape(num_samples, num_features)\n",
    "        kde.fit(combined_images)\n",
    "        kde_scores = kde.score_samples(combined_images)\n",
    "        kde_probs = np.exp(kde_scores)\n",
    "        kde_scores_list.append(kde_scores)\n",
    "        kde_probs_list.append(kde_probs)\n",
    "    kde_scores = np.concatenate(kde_scores_list)\n",
    "    kde_probs = np.concatenate(kde_probs_list)\n",
    "\n",
    "    return kde_scores, kde_probs\n",
    "\n",
    "\n",
    "\n",
    "\n",
    "def calculate_kid_donkey(real_images, generated_images, image_size=(64, 64)):\n",
    "    def calculate_gram_matrix(data):\n",
    "        num_samples = tf.shape(data)[0]\n",
    "        data = tf.image.resize(data, image_size)\n",
    "        data = tf.reshape(data, [num_samples, -1])\n",
    "        gram_matrix = tf.matmul(data, data, transpose_a=True)\n",
    "        gram_matrix /= tf.cast(num_samples, tf.float32)\n",
    "        return gram_matrix\n",
    "\n",
    "    print(np.unique(real_images), np.unique(generated_images))\n",
    "    real_images = tf.convert_to_tensor(real_images, dtype=tf.float32)\n",
    "    generated_images = tf.convert_to_tensor(generated_images, dtype=tf.float32)\n",
    "    print(np.unique(real_images), np.unique(generated_images))\n",
    "    num_samples_real = tf.cast(tf.shape(real_images)[0], tf.float32).numpy()\n",
    "    num_samples_generated = tf.cast(tf.shape(generated_images)[0], tf.float32).numpy()\n",
    "    print(num_samples_real, num_samples_generated)\n",
    "    gram_real = calculate_gram_matrix(real_images)\n",
    "    gram_generated = calculate_gram_matrix(generated_images)\n",
    "    print(gram_real.shape, gram_generated.shape)\n",
    "    mmd2 = (\n",
    "        tf.reduce_sum(gram_real) / (num_samples_real * (num_samples_real - 1)) +\n",
    "        tf.reduce_sum(gram_generated) / (num_samples_generated * (num_samples_generated - 1)) -\n",
    "        2 * tf.reduce_sum(tf.matmul(real_images, generated_images, transpose_a=True)) /\n",
    "        (num_samples_real * num_samples_generated)\n",
    "    )\n",
    "    print(mmd2)\n",
    "    return mmd2\n",
    "\n",
    "\n",
    "def calculate_kid_kitti(real_images, generated_images, image_size=(64, 64), batch_size=100):\n",
    "    def calculate_gram_matrix(data):\n",
    "        num_samples = tf.shape(data)[0]\n",
    "        data = tf.image.resize(data, image_size)\n",
    "        data = tf.reshape(data, [num_samples, -1])\n",
    "        gram_matrix = tf.matmul(data, data, transpose_a=True)\n",
    "        gram_matrix /= tf.cast(num_samples, tf.float32)\n",
    "        return gram_matrix\n",
    "\n",
    "    num_samples_real = len(real_images)\n",
    "    num_samples_generated = len(generated_images)\n",
    "\n",
    "    real_batches = [real_images[i:i+batch_size] for i in range(0, num_samples_real, batch_size)]\n",
    "    generated_batches = [generated_images[i:i+batch_size] for i in range(0, num_samples_generated, batch_size)]\n",
    "\n",
    "    mmd2 = 0.0\n",
    "\n",
    "    for real_batch, generated_batch in zip(real_batches, generated_batches):\n",
    "        real_batch = tf.convert_to_tensor(real_batch, dtype=tf.float32)\n",
    "        generated_batch = tf.convert_to_tensor(generated_batch, dtype=tf.float32)\n",
    "        real_batch = real_batch / 255.0\n",
    "        generated_batch = generated_batch / 255.0\n",
    "        gram_real = calculate_gram_matrix(real_batch)\n",
    "        gram_generated = calculate_gram_matrix(generated_batch)\n",
    "        batch_mmd2 = (\n",
    "            tf.reduce_sum(gram_real) / (num_samples_real * (num_samples_real - 1)) +\n",
    "            tf.reduce_sum(gram_generated) / (num_samples_generated * (num_samples_generated - 1)) -\n",
    "            2 * tf.reduce_sum(tf.matmul(real_batch, generated_batch, transpose_a=True)) /\n",
    "            (num_samples_real * num_samples_generated)\n",
    "        )\n",
    "        mmd2 += batch_mmd2\n",
    "        print(mmd2)\n",
    "    mmd2 /= len(real_batches)\n",
    "    return mmd2\n",
    "\n",
    "\n",
    "\n",
    "\n",
    "def calculate_semantic_segmentation_score(images_1, images_2):\n",
    "    segmentation_model = VGG16(weights='imagenet', include_top=False, input_shape=(None, None, 3))\n",
    "    sss_scores = []\n",
    "    for image1, image2 in zip(images_1, images_2):\n",
    "        preprocessed_image1 = (image1)\n",
    "        preprocessed_image2 = (image2)\n",
    "        segmentation1 = segmentation_model.predict(np.expand_dims(preprocessed_image1, axis=0))\n",
    "        segmentation2 = segmentation_model.predict(np.expand_dims(preprocessed_image2, axis=0))\n",
    "        mse = np.mean((segmentation1 - segmentation2) ** 2)\n",
    "        sss_scores.append(mse)\n",
    "    return sss_scores\n"
   ]
  },
  {
   "cell_type": "code",
   "execution_count": 2,
   "id": "6ffbacdf-dc1c-45f2-a33f-207f4fae8b08",
   "metadata": {},
   "outputs": [],
   "source": [
    "def calculate_scores(type,model_type,source_name):\n",
    "\n",
    "    folder1_path = './'+type+'/content/output_plots/real/real/'\n",
    "    folder2_path = './'+type+'/content/output_plots/'+model_type+'/'+str(source_name)+'/'\n",
    "    os.makedirs('./'+type+'/content/output_plots/'+model_type+'/'+str(source_name)+'_metrics_results/', exist_ok=True)\n",
    "    output_folder = './'+type+'/content/output_plots/'+model_type+'/'+str(source_name)+'_metrics_results/'\n",
    "    \n",
    "    # Load images from folders\n",
    "    images1,_ = load_images_from_folder(folder1_path)\n",
    "    images2,path2 = load_images_from_folder(folder2_path)\n",
    "    \n",
    "    # Calculate metrics\n",
    "    results = []\n",
    "    results_dict = {}\n",
    "\n",
    "\n",
    "    print(type,model_type,source_name)\n",
    "    \n",
    "    print(\"Calculating SSIM scores...\")\n",
    "    ssim_scores = [calculate_ssim(img1, img2) for img1, img2 in zip(images1, images2)]\n",
    "    results.append(ssim_scores)\n",
    "    results_dict[\"ssim_scores\"]=ssim_scores\n",
    "    \n",
    "    print(\"Calculating PSNR scores...\")\n",
    "    psnr_scores = [calculate_psnr(img1, img2) for img1, img2 in zip(images1, images2)]\n",
    "    results.append(psnr_scores)\n",
    "    results_dict[\"psnr_scores\"]=psnr_scores\n",
    "    \n",
    "    print(\"Calculating MSE scores...\")\n",
    "    mse_scores = [calculate_mse(img1, img2) for img1, img2 in zip(images1, images2)]\n",
    "    results.append(mse_scores)\n",
    "    results_dict[\"mse_scores\"]=mse_scores\n",
    "    \n",
    "    print(\"Calculating cosine similarities...\")\n",
    "    cosine_similarities = calculate_cosine_similarity(images1, images2)\n",
    "    results.append(cosine_similarities)\n",
    "    results_dict[\"cosine_similarities\"]=cosine_similarities\n",
    "    \n",
    "    print(\"Calculating correlation coefficients...\")\n",
    "    corr_coeffs = [calculate_correlation_coefficient(img1, img2) for img1, img2 in zip(images1, images2)]\n",
    "    results.append(corr_coeffs)\n",
    "    results_dict[\"corr_coeffs\"]=corr_coeffs\n",
    "    \n",
    "    print(\"Calculating Texture Similarity...\")\n",
    "    text_sim=calculate_texture_similarity(images1, images2)\n",
    "    results.append(text_sim)\n",
    "    results_dict[\"text_sim\"]=text_sim\n",
    "    \n",
    "    print(\"Calculating WD Score...\")\n",
    "    wd_score=calculate_wd(images1, images2)\n",
    "    results.append(wd_score)\n",
    "    results_dict[\"wd_score\"]=wd_score\n",
    "    \n",
    "    print(\"Calculating KL Divergence...\")\n",
    "    kl_div=calculate_kl_divergence(images1, images2)\n",
    "    results.append(kl_div)\n",
    "    results_dict[\"kl_div\"]=kl_div\n",
    "    \n",
    "    print(\"Calculating Histogram Intersection...\")\n",
    "    hist_inter=calculate_histogram_intersection(images1, images2)\n",
    "    results.append(hist_inter)\n",
    "    results_dict[\"hist_inter\"]=hist_inter\n",
    "    \n",
    "    print(\"Calculating Perceptual Dist...\")\n",
    "    perc_dist= calculate_perceptual_distances(images1, images2)\n",
    "    results.append(perc_dist)\n",
    "    results_dict[\"perc_dist\"]=perc_dist\n",
    "\n",
    "    print(\"Calculating Inception Score...\")\n",
    "    inception_score = calculate_inception_score(images1,images2)\n",
    "    results_dict[\"inception_score\"] = inception_score\n",
    "    print(results_dict[\"inception_score\"])\n",
    "    \n",
    "    \n",
    "    print(\"Calculating FID...\")\n",
    "    fid_score = calculate_fid(images1, images2)\n",
    "    results_dict[\"fid_score\"] = fid_score\n",
    "\n",
    "    print(\"Calculating Kernel Density Estimation (KDE)...\")\n",
    "    kde_scores, kde_probs = calculate_kde(images2)\n",
    "    results.append(kde_scores)\n",
    "    results_dict[\"kde_scores\"] = kde_scores\n",
    "    results.append(kde_probs)\n",
    "    results_dict[\"kde_probs\"] = kde_probs\n",
    "\n",
    "    if type=='donkey':\n",
    "        print(\"Calculating Kernel Inception Distance (KID)...\")\n",
    "        kid_score = calculate_kid_donkey(images1, images2)\n",
    "        results_dict[\"kid_score\"] = kid_score.numpy()\n",
    "    else:\n",
    "        print(\"Calculating Kernel Inception Distance (KID)...\")\n",
    "        kid_score = calculate_kid_kitti(images1, images2)\n",
    "        results_dict[\"kid_score\"] = kid_score.numpy()\n",
    "    \n",
    "\n",
    "    print(\"Calculating Semantic seg score (SSS)...\")\n",
    "    sss = calculate_semantic_segmentation_score(images1, images2)\n",
    "    results_dict[\"ss_score\"]=sss\n",
    "    \n",
    "    \n",
    "    print(\"Saving jsons for \"+source_name)\n",
    "    for i in range(0,len(path2)):\n",
    "        single_results_dict = {}\n",
    "        for metric_name in results_dict:\n",
    "            if (metric_name == metric_name == 'inception_score' or metric_name==\"kid_score\" or metric_name==\"fid_score\"):\n",
    "                # print(metric_name)\n",
    "                single_results_dict[metric_name] = float(results_dict[metric_name])\n",
    "            else:\n",
    "                # print(metric_name)\n",
    "                single_results_dict[metric_name] = float(results_dict[metric_name][i])\n",
    "        output_name=output_folder+path2[i].split(\"/\")[-1].split(\"_\")[0]+\"_\"+path2[i].split(\"/\")[-1].split(\"_\")[1].split(\".\")[0]+\".json\"\n",
    "        with open(output_name, \"w\") as json_file:\n",
    "            json.dump(single_results_dict, json_file)\n",
    "    \n",
    "    print(\"Results saved as JSON.\")\n",
    "    return results_dict\n",
    "\n"
   ]
  },
  {
   "cell_type": "code",
   "execution_count": 3,
   "id": "aa4915a4",
   "metadata": {},
   "outputs": [],
   "source": [
    "inception_model = tf.keras.applications.InceptionV3(include_top=False, pooling='avg')\n",
    "resnet_model = ResNet50(weights='imagenet', include_top=False, pooling='avg')\n",
    "base_model = VGG16(weights='imagenet', include_top=False)\n",
    "model = Model(inputs=base_model.input, outputs=base_model.get_layer('block5_pool').output)\n",
    "model.compile()"
   ]
  },
  {
   "cell_type": "code",
   "execution_count": null,
   "id": "c2757da4",
   "metadata": {},
   "outputs": [],
   "source": [
    "task_type='kitti'\n",
    "model_type,source_name='sim','sim'\n",
    "calculate_scores(task_type,model_type,source_name)\n",
    "model_type='cyclegan'\n",
    "source_names=['cyclegan_1','cyclegan_2','cyclegan_3']\n",
    "for source_name in source_names:\n",
    "    calculate_scores(task_type,model_type,source_name)\n",
    "model_type='pix2pix_mask_manual'\n",
    "source_names=['pix2pix_mask_1_sim','pix2pix_mask_2_sim','pix2pix_mask_3_sim']\n",
    "for source_name in source_names:\n",
    "    calculate_scores(task_type,model_type,source_name)"
   ]
  },
  {
   "cell_type": "code",
   "execution_count": 4,
   "id": "38246cca",
   "metadata": {},
   "outputs": [
    {
     "name": "stdout",
     "output_type": "stream",
     "text": [
      "donkey sim sim\n",
      "Calculating SSIM scores...\n",
      "Calculating PSNR scores...\n",
      "Calculating MSE scores...\n",
      "Calculating cosine similarities...\n"
     ]
    },
    {
     "name": "stderr",
     "output_type": "stream",
     "text": [
      "2023-10-27 16:42:35.050032: W tensorflow/core/platform/profile_utils/cpu_utils.cc:128] Failed to get CPU frequency: 0 Hz\n",
      "2023-10-27 16:42:35.101617: I tensorflow/core/grappler/optimizers/custom_graph_optimizer_registry.cc:113] Plugin optimizer for device_type GPU is enabled.\n"
     ]
    },
    {
     "name": "stdout",
     "output_type": "stream",
     "text": [
      "0  out of  196\n",
      "10  out of  196\n",
      "20  out of  196\n",
      "30  out of  196\n",
      "40  out of  196\n",
      "50  out of  196\n",
      "60  out of  196\n",
      "70  out of  196\n",
      "80  out of  196\n",
      "90  out of  196\n",
      "100  out of  196\n",
      "110  out of  196\n",
      "120  out of  196\n",
      "130  out of  196\n",
      "140  out of  196\n",
      "150  out of  196\n",
      "160  out of  196\n",
      "170  out of  196\n",
      "180  out of  196\n",
      "190  out of  196\n",
      "Calculating correlation coefficients...\n",
      "Calculating Texture Similarity...\n",
      "Calculating WD Score...\n",
      "Calculating KL Divergence...\n",
      "Calculating Histogram Intersection...\n",
      "Calculating Perceptual Dist...\n",
      "Calculating Inception Score...\n"
     ]
    },
    {
     "name": "stderr",
     "output_type": "stream",
     "text": [
      "2023-10-27 16:43:19.961613: I tensorflow/core/grappler/optimizers/custom_graph_optimizer_registry.cc:113] Plugin optimizer for device_type GPU is enabled.\n"
     ]
    },
    {
     "name": "stdout",
     "output_type": "stream",
     "text": [
      "1.441895\n",
      "Calculating FID...\n",
      "batch  0  of  6\n"
     ]
    },
    {
     "name": "stderr",
     "output_type": "stream",
     "text": [
      "2023-10-27 16:43:22.881522: I tensorflow/core/grappler/optimizers/custom_graph_optimizer_registry.cc:113] Plugin optimizer for device_type GPU is enabled.\n"
     ]
    },
    {
     "name": "stdout",
     "output_type": "stream",
     "text": [
      "batch  1  of  6\n"
     ]
    },
    {
     "name": "stderr",
     "output_type": "stream",
     "text": [
      "2023-10-27 16:43:23.654609: I tensorflow/core/grappler/optimizers/custom_graph_optimizer_registry.cc:113] Plugin optimizer for device_type GPU is enabled.\n"
     ]
    },
    {
     "name": "stdout",
     "output_type": "stream",
     "text": [
      "batch  2  of  6\n"
     ]
    },
    {
     "name": "stderr",
     "output_type": "stream",
     "text": [
      "2023-10-27 16:43:24.367982: I tensorflow/core/grappler/optimizers/custom_graph_optimizer_registry.cc:113] Plugin optimizer for device_type GPU is enabled.\n"
     ]
    },
    {
     "name": "stdout",
     "output_type": "stream",
     "text": [
      "batch  3  of  6\n"
     ]
    },
    {
     "name": "stderr",
     "output_type": "stream",
     "text": [
      "2023-10-27 16:43:25.083688: I tensorflow/core/grappler/optimizers/custom_graph_optimizer_registry.cc:113] Plugin optimizer for device_type GPU is enabled.\n"
     ]
    },
    {
     "name": "stdout",
     "output_type": "stream",
     "text": [
      "batch  4  of  6\n"
     ]
    },
    {
     "name": "stderr",
     "output_type": "stream",
     "text": [
      "2023-10-27 16:43:25.877775: I tensorflow/core/grappler/optimizers/custom_graph_optimizer_registry.cc:113] Plugin optimizer for device_type GPU is enabled.\n"
     ]
    },
    {
     "name": "stdout",
     "output_type": "stream",
     "text": [
      "batch  5  of  6\n"
     ]
    },
    {
     "name": "stderr",
     "output_type": "stream",
     "text": [
      "2023-10-27 16:43:26.500346: I tensorflow/core/grappler/optimizers/custom_graph_optimizer_registry.cc:113] Plugin optimizer for device_type GPU is enabled.\n"
     ]
    },
    {
     "name": "stdout",
     "output_type": "stream",
     "text": [
      "batch  0  of  6\n"
     ]
    },
    {
     "name": "stderr",
     "output_type": "stream",
     "text": [
      "2023-10-27 16:43:27.494496: I tensorflow/core/grappler/optimizers/custom_graph_optimizer_registry.cc:113] Plugin optimizer for device_type GPU is enabled.\n"
     ]
    },
    {
     "name": "stdout",
     "output_type": "stream",
     "text": [
      "batch  1  of  6\n"
     ]
    },
    {
     "name": "stderr",
     "output_type": "stream",
     "text": [
      "2023-10-27 16:43:28.485921: I tensorflow/core/grappler/optimizers/custom_graph_optimizer_registry.cc:113] Plugin optimizer for device_type GPU is enabled.\n"
     ]
    },
    {
     "name": "stdout",
     "output_type": "stream",
     "text": [
      "batch  2  of  6\n"
     ]
    },
    {
     "name": "stderr",
     "output_type": "stream",
     "text": [
      "2023-10-27 16:43:29.404052: I tensorflow/core/grappler/optimizers/custom_graph_optimizer_registry.cc:113] Plugin optimizer for device_type GPU is enabled.\n"
     ]
    },
    {
     "name": "stdout",
     "output_type": "stream",
     "text": [
      "batch  3  of  6\n"
     ]
    },
    {
     "name": "stderr",
     "output_type": "stream",
     "text": [
      "2023-10-27 16:43:30.452945: I tensorflow/core/grappler/optimizers/custom_graph_optimizer_registry.cc:113] Plugin optimizer for device_type GPU is enabled.\n"
     ]
    },
    {
     "name": "stdout",
     "output_type": "stream",
     "text": [
      "batch  4  of  6\n"
     ]
    },
    {
     "name": "stderr",
     "output_type": "stream",
     "text": [
      "2023-10-27 16:43:31.844847: I tensorflow/core/grappler/optimizers/custom_graph_optimizer_registry.cc:113] Plugin optimizer for device_type GPU is enabled.\n"
     ]
    },
    {
     "name": "stdout",
     "output_type": "stream",
     "text": [
      "batch  5  of  6\n"
     ]
    },
    {
     "name": "stderr",
     "output_type": "stream",
     "text": [
      "2023-10-27 16:43:32.595109: I tensorflow/core/grappler/optimizers/custom_graph_optimizer_registry.cc:113] Plugin optimizer for device_type GPU is enabled.\n"
     ]
    },
    {
     "name": "stdout",
     "output_type": "stream",
     "text": [
      "Calculating Kernel Density Estimation (KDE)...\n",
      "Calculating Kernel Inception Distance (KID)...\n",
      "[  0   1   2   3   4   5   6   7   8   9  10  11  12  13  14  15  16  17\n",
      "  18  19  20  21  22  23  24  25  26  27  28  29  30  31  32  33  34  35\n",
      "  36  37  38  39  40  41  42  43  44  45  46  47  48  49  50  51  52  53\n",
      "  54  55  56  57  58  59  60  61  62  63  64  65  66  67  68  69  70  71\n",
      "  72  73  74  75  76  77  78  79  80  81  82  83  84  85  86  87  88  89\n",
      "  90  91  92  93  94  95  96  97  98  99 100 101 102 103 104 105 106 107\n",
      " 108 109 110 111 112 113 114 115 116 117 118 119 120 121 122 123 124 125\n",
      " 126 127 128 129 130 131 132 133 134 135 136 137 138 139 140 141 142 143\n",
      " 144 145 146 147 148 149 150 151 152 153 154 155 156 157 158 159 160 161\n",
      " 162 163 164 165 166 167 168 169 170 171 172 173 174 175 176 177 178 179\n",
      " 180 181 182 183 184 185 186 187 188 189 190 191 192 193 194 195 196 197\n",
      " 198 199 200 201 202 203 204 205 206 207 208 209 210 211 212 213 214 215\n",
      " 216 217 218 219 220 221 222 223 224 225 226 227 228 229 230 231 232 233\n",
      " 234 235 236 237 238 239 240 241 242 243 244 245 246 247 248 249 250 251\n",
      " 252 253 254 255] [  0   1   2   3   4   5   6   7   8   9  10  11  12  13  14  15  16  17\n",
      "  18  19  20  21  22  23  24  25  26  27  28  29  30  31  32  33  34  35\n",
      "  36  37  38  39  40  41  42  43  44  45  46  47  48  49  50  51  52  53\n",
      "  54  55  56  57  58  59  60  61  62  63  64  65  66  67  68  69  70  71\n",
      "  72  73  74  75  76  77  78  79  80  81  82  83  84  85  86  87  88  89\n",
      "  90  91  92  93  94  95  96  97  98  99 100 101 102 103 104 105 106 107\n",
      " 108 109 110 111 112 113 114 115 116 117 118 119 120 121 122 123 124 125\n",
      " 126 127 128 129 130 131 132 133 134 135 136 137 138 139 140 141 142 143\n",
      " 144 145 146 147 148 149 150 151 152 153 154 155 156 157 158 159 160 161\n",
      " 162 163 164 165 166 167 168 169 170 171 172 173 174 175 176 177 178 179\n",
      " 180 181 182 183 184 185 186 187 188 189 190 191 192 193 194 195 196 197\n",
      " 198 199 200 201 202 203 204]\n",
      "[  0.   1.   2.   3.   4.   5.   6.   7.   8.   9.  10.  11.  12.  13.\n",
      "  14.  15.  16.  17.  18.  19.  20.  21.  22.  23.  24.  25.  26.  27.\n",
      "  28.  29.  30.  31.  32.  33.  34.  35.  36.  37.  38.  39.  40.  41.\n",
      "  42.  43.  44.  45.  46.  47.  48.  49.  50.  51.  52.  53.  54.  55.\n",
      "  56.  57.  58.  59.  60.  61.  62.  63.  64.  65.  66.  67.  68.  69.\n",
      "  70.  71.  72.  73.  74.  75.  76.  77.  78.  79.  80.  81.  82.  83.\n",
      "  84.  85.  86.  87.  88.  89.  90.  91.  92.  93.  94.  95.  96.  97.\n",
      "  98.  99. 100. 101. 102. 103. 104. 105. 106. 107. 108. 109. 110. 111.\n",
      " 112. 113. 114. 115. 116. 117. 118. 119. 120. 121. 122. 123. 124. 125.\n",
      " 126. 127. 128. 129. 130. 131. 132. 133. 134. 135. 136. 137. 138. 139.\n",
      " 140. 141. 142. 143. 144. 145. 146. 147. 148. 149. 150. 151. 152. 153.\n",
      " 154. 155. 156. 157. 158. 159. 160. 161. 162. 163. 164. 165. 166. 167.\n",
      " 168. 169. 170. 171. 172. 173. 174. 175. 176. 177. 178. 179. 180. 181.\n",
      " 182. 183. 184. 185. 186. 187. 188. 189. 190. 191. 192. 193. 194. 195.\n",
      " 196. 197. 198. 199. 200. 201. 202. 203. 204. 205. 206. 207. 208. 209.\n",
      " 210. 211. 212. 213. 214. 215. 216. 217. 218. 219. 220. 221. 222. 223.\n",
      " 224. 225. 226. 227. 228. 229. 230. 231. 232. 233. 234. 235. 236. 237.\n",
      " 238. 239. 240. 241. 242. 243. 244. 245. 246. 247. 248. 249. 250. 251.\n",
      " 252. 253. 254. 255.] [  0.   1.   2.   3.   4.   5.   6.   7.   8.   9.  10.  11.  12.  13.\n",
      "  14.  15.  16.  17.  18.  19.  20.  21.  22.  23.  24.  25.  26.  27.\n",
      "  28.  29.  30.  31.  32.  33.  34.  35.  36.  37.  38.  39.  40.  41.\n",
      "  42.  43.  44.  45.  46.  47.  48.  49.  50.  51.  52.  53.  54.  55.\n",
      "  56.  57.  58.  59.  60.  61.  62.  63.  64.  65.  66.  67.  68.  69.\n",
      "  70.  71.  72.  73.  74.  75.  76.  77.  78.  79.  80.  81.  82.  83.\n",
      "  84.  85.  86.  87.  88.  89.  90.  91.  92.  93.  94.  95.  96.  97.\n",
      "  98.  99. 100. 101. 102. 103. 104. 105. 106. 107. 108. 109. 110. 111.\n",
      " 112. 113. 114. 115. 116. 117. 118. 119. 120. 121. 122. 123. 124. 125.\n",
      " 126. 127. 128. 129. 130. 131. 132. 133. 134. 135. 136. 137. 138. 139.\n",
      " 140. 141. 142. 143. 144. 145. 146. 147. 148. 149. 150. 151. 152. 153.\n",
      " 154. 155. 156. 157. 158. 159. 160. 161. 162. 163. 164. 165. 166. 167.\n",
      " 168. 169. 170. 171. 172. 173. 174. 175. 176. 177. 178. 179. 180. 181.\n",
      " 182. 183. 184. 185. 186. 187. 188. 189. 190. 191. 192. 193. 194. 195.\n",
      " 196. 197. 198. 199. 200. 201. 202. 203. 204.]\n",
      "196.0 196.0\n",
      "(12288, 12288) (12288, 12288)\n",
      "tf.Tensor(25290108.0, shape=(), dtype=float32)\n",
      "Calculating Semantic seg score (SSS)...\n"
     ]
    },
    {
     "name": "stderr",
     "output_type": "stream",
     "text": [
      "2023-10-27 16:43:43.738046: I tensorflow/core/grappler/optimizers/custom_graph_optimizer_registry.cc:113] Plugin optimizer for device_type GPU is enabled.\n"
     ]
    },
    {
     "name": "stdout",
     "output_type": "stream",
     "text": [
      "Saving jsons for sim\n",
      "Results saved as JSON.\n",
      "donkey cyclegan cyclegan_1\n",
      "Calculating SSIM scores...\n",
      "Calculating PSNR scores...\n",
      "Calculating MSE scores...\n",
      "Calculating cosine similarities...\n"
     ]
    },
    {
     "name": "stderr",
     "output_type": "stream",
     "text": [
      "2023-10-27 16:43:56.679525: I tensorflow/core/grappler/optimizers/custom_graph_optimizer_registry.cc:113] Plugin optimizer for device_type GPU is enabled.\n"
     ]
    },
    {
     "name": "stdout",
     "output_type": "stream",
     "text": [
      "0  out of  196\n",
      "10  out of  196\n",
      "20  out of  196\n",
      "30  out of  196\n",
      "40  out of  196\n",
      "50  out of  196\n",
      "60  out of  196\n",
      "70  out of  196\n",
      "80  out of  196\n",
      "90  out of  196\n",
      "100  out of  196\n",
      "110  out of  196\n",
      "120  out of  196\n",
      "130  out of  196\n",
      "140  out of  196\n",
      "150  out of  196\n",
      "160  out of  196\n",
      "170  out of  196\n",
      "180  out of  196\n",
      "190  out of  196\n",
      "Calculating correlation coefficients...\n",
      "Calculating Texture Similarity...\n",
      "Calculating WD Score...\n",
      "Calculating KL Divergence...\n",
      "Calculating Histogram Intersection...\n",
      "Calculating Perceptual Dist...\n",
      "Calculating Inception Score...\n"
     ]
    },
    {
     "name": "stderr",
     "output_type": "stream",
     "text": [
      "2023-10-27 16:44:42.039947: I tensorflow/core/grappler/optimizers/custom_graph_optimizer_registry.cc:113] Plugin optimizer for device_type GPU is enabled.\n"
     ]
    },
    {
     "name": "stdout",
     "output_type": "stream",
     "text": [
      "1.1634309\n",
      "Calculating FID...\n",
      "batch  0  of  6\n"
     ]
    },
    {
     "name": "stderr",
     "output_type": "stream",
     "text": [
      "2023-10-27 16:44:45.388132: I tensorflow/core/grappler/optimizers/custom_graph_optimizer_registry.cc:113] Plugin optimizer for device_type GPU is enabled.\n"
     ]
    },
    {
     "name": "stdout",
     "output_type": "stream",
     "text": [
      "batch  1  of  6\n"
     ]
    },
    {
     "name": "stderr",
     "output_type": "stream",
     "text": [
      "2023-10-27 16:44:46.985330: I tensorflow/core/grappler/optimizers/custom_graph_optimizer_registry.cc:113] Plugin optimizer for device_type GPU is enabled.\n"
     ]
    },
    {
     "name": "stdout",
     "output_type": "stream",
     "text": [
      "batch  2  of  6\n"
     ]
    },
    {
     "name": "stderr",
     "output_type": "stream",
     "text": [
      "2023-10-27 16:44:48.697032: I tensorflow/core/grappler/optimizers/custom_graph_optimizer_registry.cc:113] Plugin optimizer for device_type GPU is enabled.\n"
     ]
    },
    {
     "name": "stdout",
     "output_type": "stream",
     "text": [
      "batch  3  of  6\n"
     ]
    },
    {
     "name": "stderr",
     "output_type": "stream",
     "text": [
      "2023-10-27 16:44:50.224471: I tensorflow/core/grappler/optimizers/custom_graph_optimizer_registry.cc:113] Plugin optimizer for device_type GPU is enabled.\n"
     ]
    },
    {
     "name": "stdout",
     "output_type": "stream",
     "text": [
      "batch  4  of  6\n"
     ]
    },
    {
     "name": "stderr",
     "output_type": "stream",
     "text": [
      "2023-10-27 16:44:51.233648: I tensorflow/core/grappler/optimizers/custom_graph_optimizer_registry.cc:113] Plugin optimizer for device_type GPU is enabled.\n"
     ]
    },
    {
     "name": "stdout",
     "output_type": "stream",
     "text": [
      "batch  5  of  6\n"
     ]
    },
    {
     "name": "stderr",
     "output_type": "stream",
     "text": [
      "2023-10-27 16:44:52.187406: I tensorflow/core/grappler/optimizers/custom_graph_optimizer_registry.cc:113] Plugin optimizer for device_type GPU is enabled.\n"
     ]
    },
    {
     "name": "stdout",
     "output_type": "stream",
     "text": [
      "batch  0  of  6\n"
     ]
    },
    {
     "name": "stderr",
     "output_type": "stream",
     "text": [
      "2023-10-27 16:44:53.227757: I tensorflow/core/grappler/optimizers/custom_graph_optimizer_registry.cc:113] Plugin optimizer for device_type GPU is enabled.\n"
     ]
    },
    {
     "name": "stdout",
     "output_type": "stream",
     "text": [
      "batch  1  of  6\n"
     ]
    },
    {
     "name": "stderr",
     "output_type": "stream",
     "text": [
      "2023-10-27 16:44:54.619348: I tensorflow/core/grappler/optimizers/custom_graph_optimizer_registry.cc:113] Plugin optimizer for device_type GPU is enabled.\n"
     ]
    },
    {
     "name": "stdout",
     "output_type": "stream",
     "text": [
      "batch  2  of  6\n"
     ]
    },
    {
     "name": "stderr",
     "output_type": "stream",
     "text": [
      "2023-10-27 16:44:56.057132: I tensorflow/core/grappler/optimizers/custom_graph_optimizer_registry.cc:113] Plugin optimizer for device_type GPU is enabled.\n"
     ]
    },
    {
     "name": "stdout",
     "output_type": "stream",
     "text": [
      "batch  3  of  6\n"
     ]
    },
    {
     "name": "stderr",
     "output_type": "stream",
     "text": [
      "2023-10-27 16:44:57.541179: I tensorflow/core/grappler/optimizers/custom_graph_optimizer_registry.cc:113] Plugin optimizer for device_type GPU is enabled.\n"
     ]
    },
    {
     "name": "stdout",
     "output_type": "stream",
     "text": [
      "batch  4  of  6\n"
     ]
    },
    {
     "name": "stderr",
     "output_type": "stream",
     "text": [
      "2023-10-27 16:44:58.908281: I tensorflow/core/grappler/optimizers/custom_graph_optimizer_registry.cc:113] Plugin optimizer for device_type GPU is enabled.\n"
     ]
    },
    {
     "name": "stdout",
     "output_type": "stream",
     "text": [
      "batch  5  of  6\n"
     ]
    },
    {
     "name": "stderr",
     "output_type": "stream",
     "text": [
      "2023-10-27 16:45:00.408226: I tensorflow/core/grappler/optimizers/custom_graph_optimizer_registry.cc:113] Plugin optimizer for device_type GPU is enabled.\n"
     ]
    },
    {
     "name": "stdout",
     "output_type": "stream",
     "text": [
      "Calculating Kernel Density Estimation (KDE)...\n",
      "Calculating Kernel Inception Distance (KID)...\n",
      "[  0   1   2   3   4   5   6   7   8   9  10  11  12  13  14  15  16  17\n",
      "  18  19  20  21  22  23  24  25  26  27  28  29  30  31  32  33  34  35\n",
      "  36  37  38  39  40  41  42  43  44  45  46  47  48  49  50  51  52  53\n",
      "  54  55  56  57  58  59  60  61  62  63  64  65  66  67  68  69  70  71\n",
      "  72  73  74  75  76  77  78  79  80  81  82  83  84  85  86  87  88  89\n",
      "  90  91  92  93  94  95  96  97  98  99 100 101 102 103 104 105 106 107\n",
      " 108 109 110 111 112 113 114 115 116 117 118 119 120 121 122 123 124 125\n",
      " 126 127 128 129 130 131 132 133 134 135 136 137 138 139 140 141 142 143\n",
      " 144 145 146 147 148 149 150 151 152 153 154 155 156 157 158 159 160 161\n",
      " 162 163 164 165 166 167 168 169 170 171 172 173 174 175 176 177 178 179\n",
      " 180 181 182 183 184 185 186 187 188 189 190 191 192 193 194 195 196 197\n",
      " 198 199 200 201 202 203 204 205 206 207 208 209 210 211 212 213 214 215\n",
      " 216 217 218 219 220 221 222 223 224 225 226 227 228 229 230 231 232 233\n",
      " 234 235 236 237 238 239 240 241 242 243 244 245 246 247 248 249 250 251\n",
      " 252 253 254 255] [  5   6   7   8   9  10  11  12  13  14  15  16  17  18  19  20  21  22\n",
      "  23  24  25  26  27  28  29  30  31  32  33  34  35  36  37  38  39  40\n",
      "  41  42  43  44  45  46  47  48  49  50  51  52  53  54  55  56  57  58\n",
      "  59  60  61  62  63  64  65  66  67  68  69  70  71  72  73  74  75  76\n",
      "  77  78  79  80  81  82  83  84  85  86  87  88  89  90  91  92  93  94\n",
      "  95  96  97  98  99 100 101 102 103 104 105 106 107 108 109 110 111 112\n",
      " 113 114 115 116 117 118 119 120 121 122 123 124 125 126 127 128 129 130\n",
      " 131 132 133 134 135 136 137 138 139 140 141 142 143 144 145 146 147 148\n",
      " 149 150 151 152 153 154 155 156 157 158 159 160 161 162 163 164 165 166\n",
      " 167 168 169 170 171 172 173 174 175 176 177 178 179 180 181 182 183 184\n",
      " 185 186 187 188 189 190 191 192 193 194 195 196 197 198 199 200 201 202\n",
      " 203 204 205 206 207 208 209 210 211 212 213 214 215 216 217 218 219 220\n",
      " 221 222 223 224 225 226 227 228 229 230 231 232 233 234 235 236 237 238\n",
      " 239 240 241 242 243 244 245 246 247 248]\n",
      "[  0.   1.   2.   3.   4.   5.   6.   7.   8.   9.  10.  11.  12.  13.\n",
      "  14.  15.  16.  17.  18.  19.  20.  21.  22.  23.  24.  25.  26.  27.\n",
      "  28.  29.  30.  31.  32.  33.  34.  35.  36.  37.  38.  39.  40.  41.\n",
      "  42.  43.  44.  45.  46.  47.  48.  49.  50.  51.  52.  53.  54.  55.\n",
      "  56.  57.  58.  59.  60.  61.  62.  63.  64.  65.  66.  67.  68.  69.\n",
      "  70.  71.  72.  73.  74.  75.  76.  77.  78.  79.  80.  81.  82.  83.\n",
      "  84.  85.  86.  87.  88.  89.  90.  91.  92.  93.  94.  95.  96.  97.\n",
      "  98.  99. 100. 101. 102. 103. 104. 105. 106. 107. 108. 109. 110. 111.\n",
      " 112. 113. 114. 115. 116. 117. 118. 119. 120. 121. 122. 123. 124. 125.\n",
      " 126. 127. 128. 129. 130. 131. 132. 133. 134. 135. 136. 137. 138. 139.\n",
      " 140. 141. 142. 143. 144. 145. 146. 147. 148. 149. 150. 151. 152. 153.\n",
      " 154. 155. 156. 157. 158. 159. 160. 161. 162. 163. 164. 165. 166. 167.\n",
      " 168. 169. 170. 171. 172. 173. 174. 175. 176. 177. 178. 179. 180. 181.\n",
      " 182. 183. 184. 185. 186. 187. 188. 189. 190. 191. 192. 193. 194. 195.\n",
      " 196. 197. 198. 199. 200. 201. 202. 203. 204. 205. 206. 207. 208. 209.\n",
      " 210. 211. 212. 213. 214. 215. 216. 217. 218. 219. 220. 221. 222. 223.\n",
      " 224. 225. 226. 227. 228. 229. 230. 231. 232. 233. 234. 235. 236. 237.\n",
      " 238. 239. 240. 241. 242. 243. 244. 245. 246. 247. 248. 249. 250. 251.\n",
      " 252. 253. 254. 255.] [  5.   6.   7.   8.   9.  10.  11.  12.  13.  14.  15.  16.  17.  18.\n",
      "  19.  20.  21.  22.  23.  24.  25.  26.  27.  28.  29.  30.  31.  32.\n",
      "  33.  34.  35.  36.  37.  38.  39.  40.  41.  42.  43.  44.  45.  46.\n",
      "  47.  48.  49.  50.  51.  52.  53.  54.  55.  56.  57.  58.  59.  60.\n",
      "  61.  62.  63.  64.  65.  66.  67.  68.  69.  70.  71.  72.  73.  74.\n",
      "  75.  76.  77.  78.  79.  80.  81.  82.  83.  84.  85.  86.  87.  88.\n",
      "  89.  90.  91.  92.  93.  94.  95.  96.  97.  98.  99. 100. 101. 102.\n",
      " 103. 104. 105. 106. 107. 108. 109. 110. 111. 112. 113. 114. 115. 116.\n",
      " 117. 118. 119. 120. 121. 122. 123. 124. 125. 126. 127. 128. 129. 130.\n",
      " 131. 132. 133. 134. 135. 136. 137. 138. 139. 140. 141. 142. 143. 144.\n",
      " 145. 146. 147. 148. 149. 150. 151. 152. 153. 154. 155. 156. 157. 158.\n",
      " 159. 160. 161. 162. 163. 164. 165. 166. 167. 168. 169. 170. 171. 172.\n",
      " 173. 174. 175. 176. 177. 178. 179. 180. 181. 182. 183. 184. 185. 186.\n",
      " 187. 188. 189. 190. 191. 192. 193. 194. 195. 196. 197. 198. 199. 200.\n",
      " 201. 202. 203. 204. 205. 206. 207. 208. 209. 210. 211. 212. 213. 214.\n",
      " 215. 216. 217. 218. 219. 220. 221. 222. 223. 224. 225. 226. 227. 228.\n",
      " 229. 230. 231. 232. 233. 234. 235. 236. 237. 238. 239. 240. 241. 242.\n",
      " 243. 244. 245. 246. 247. 248.]\n",
      "196.0 196.0\n",
      "(12288, 12288) (12288, 12288)\n",
      "tf.Tensor(30525964.0, shape=(), dtype=float32)\n",
      "Calculating Semantic seg score (SSS)...\n"
     ]
    },
    {
     "name": "stderr",
     "output_type": "stream",
     "text": [
      "2023-10-27 16:45:12.418624: I tensorflow/core/grappler/optimizers/custom_graph_optimizer_registry.cc:113] Plugin optimizer for device_type GPU is enabled.\n"
     ]
    },
    {
     "name": "stdout",
     "output_type": "stream",
     "text": [
      "Saving jsons for cyclegan_1\n",
      "Results saved as JSON.\n",
      "donkey cyclegan cyclegan_2\n",
      "Calculating SSIM scores...\n",
      "Calculating PSNR scores...\n",
      "Calculating MSE scores...\n",
      "Calculating cosine similarities...\n"
     ]
    },
    {
     "name": "stderr",
     "output_type": "stream",
     "text": [
      "2023-10-27 16:45:24.859725: I tensorflow/core/grappler/optimizers/custom_graph_optimizer_registry.cc:113] Plugin optimizer for device_type GPU is enabled.\n"
     ]
    },
    {
     "name": "stdout",
     "output_type": "stream",
     "text": [
      "0  out of  196\n",
      "10  out of  196\n",
      "20  out of  196\n",
      "30  out of  196\n",
      "40  out of  196\n",
      "50  out of  196\n",
      "60  out of  196\n",
      "70  out of  196\n",
      "80  out of  196\n",
      "90  out of  196\n",
      "100  out of  196\n",
      "110  out of  196\n",
      "120  out of  196\n",
      "130  out of  196\n",
      "140  out of  196\n",
      "150  out of  196\n",
      "160  out of  196\n",
      "170  out of  196\n",
      "180  out of  196\n",
      "190  out of  196\n",
      "Calculating correlation coefficients...\n",
      "Calculating Texture Similarity...\n",
      "Calculating WD Score...\n",
      "Calculating KL Divergence...\n",
      "Calculating Histogram Intersection...\n",
      "Calculating Perceptual Dist...\n",
      "Calculating Inception Score...\n"
     ]
    },
    {
     "name": "stderr",
     "output_type": "stream",
     "text": [
      "2023-10-27 16:46:09.297524: I tensorflow/core/grappler/optimizers/custom_graph_optimizer_registry.cc:113] Plugin optimizer for device_type GPU is enabled.\n"
     ]
    },
    {
     "name": "stdout",
     "output_type": "stream",
     "text": [
      "1.2417927\n",
      "Calculating FID...\n",
      "batch  0  of  6\n"
     ]
    },
    {
     "name": "stderr",
     "output_type": "stream",
     "text": [
      "2023-10-27 16:46:13.023319: I tensorflow/core/grappler/optimizers/custom_graph_optimizer_registry.cc:113] Plugin optimizer for device_type GPU is enabled.\n"
     ]
    },
    {
     "name": "stdout",
     "output_type": "stream",
     "text": [
      "batch  1  of  6\n"
     ]
    },
    {
     "name": "stderr",
     "output_type": "stream",
     "text": [
      "2023-10-27 16:46:15.256377: I tensorflow/core/grappler/optimizers/custom_graph_optimizer_registry.cc:113] Plugin optimizer for device_type GPU is enabled.\n"
     ]
    },
    {
     "name": "stdout",
     "output_type": "stream",
     "text": [
      "batch  2  of  6\n"
     ]
    },
    {
     "name": "stderr",
     "output_type": "stream",
     "text": [
      "2023-10-27 16:46:16.717754: I tensorflow/core/grappler/optimizers/custom_graph_optimizer_registry.cc:113] Plugin optimizer for device_type GPU is enabled.\n"
     ]
    },
    {
     "name": "stdout",
     "output_type": "stream",
     "text": [
      "batch  3  of  6\n"
     ]
    },
    {
     "name": "stderr",
     "output_type": "stream",
     "text": [
      "2023-10-27 16:46:18.071215: I tensorflow/core/grappler/optimizers/custom_graph_optimizer_registry.cc:113] Plugin optimizer for device_type GPU is enabled.\n"
     ]
    },
    {
     "name": "stdout",
     "output_type": "stream",
     "text": [
      "batch  4  of  6\n"
     ]
    },
    {
     "name": "stderr",
     "output_type": "stream",
     "text": [
      "2023-10-27 16:46:19.356498: I tensorflow/core/grappler/optimizers/custom_graph_optimizer_registry.cc:113] Plugin optimizer for device_type GPU is enabled.\n"
     ]
    },
    {
     "name": "stdout",
     "output_type": "stream",
     "text": [
      "batch  5  of  6\n"
     ]
    },
    {
     "name": "stderr",
     "output_type": "stream",
     "text": [
      "2023-10-27 16:46:20.788427: I tensorflow/core/grappler/optimizers/custom_graph_optimizer_registry.cc:113] Plugin optimizer for device_type GPU is enabled.\n"
     ]
    },
    {
     "name": "stdout",
     "output_type": "stream",
     "text": [
      "batch  0  of  6\n"
     ]
    },
    {
     "name": "stderr",
     "output_type": "stream",
     "text": [
      "2023-10-27 16:46:22.994635: I tensorflow/core/grappler/optimizers/custom_graph_optimizer_registry.cc:113] Plugin optimizer for device_type GPU is enabled.\n"
     ]
    },
    {
     "name": "stdout",
     "output_type": "stream",
     "text": [
      "batch  1  of  6\n"
     ]
    },
    {
     "name": "stderr",
     "output_type": "stream",
     "text": [
      "2023-10-27 16:46:25.207100: I tensorflow/core/grappler/optimizers/custom_graph_optimizer_registry.cc:113] Plugin optimizer for device_type GPU is enabled.\n"
     ]
    },
    {
     "name": "stdout",
     "output_type": "stream",
     "text": [
      "batch  2  of  6\n"
     ]
    },
    {
     "name": "stderr",
     "output_type": "stream",
     "text": [
      "2023-10-27 16:46:27.508593: I tensorflow/core/grappler/optimizers/custom_graph_optimizer_registry.cc:113] Plugin optimizer for device_type GPU is enabled.\n"
     ]
    },
    {
     "name": "stdout",
     "output_type": "stream",
     "text": [
      "batch  3  of  6\n"
     ]
    },
    {
     "name": "stderr",
     "output_type": "stream",
     "text": [
      "2023-10-27 16:46:29.841161: I tensorflow/core/grappler/optimizers/custom_graph_optimizer_registry.cc:113] Plugin optimizer for device_type GPU is enabled.\n"
     ]
    },
    {
     "name": "stdout",
     "output_type": "stream",
     "text": [
      "batch  4  of  6\n"
     ]
    },
    {
     "name": "stderr",
     "output_type": "stream",
     "text": [
      "2023-10-27 16:46:32.305558: I tensorflow/core/grappler/optimizers/custom_graph_optimizer_registry.cc:113] Plugin optimizer for device_type GPU is enabled.\n"
     ]
    },
    {
     "name": "stdout",
     "output_type": "stream",
     "text": [
      "batch  5  of  6\n"
     ]
    },
    {
     "name": "stderr",
     "output_type": "stream",
     "text": [
      "2023-10-27 16:46:34.646664: I tensorflow/core/grappler/optimizers/custom_graph_optimizer_registry.cc:113] Plugin optimizer for device_type GPU is enabled.\n"
     ]
    },
    {
     "name": "stdout",
     "output_type": "stream",
     "text": [
      "Calculating Kernel Density Estimation (KDE)...\n",
      "Calculating Kernel Inception Distance (KID)...\n",
      "[  0   1   2   3   4   5   6   7   8   9  10  11  12  13  14  15  16  17\n",
      "  18  19  20  21  22  23  24  25  26  27  28  29  30  31  32  33  34  35\n",
      "  36  37  38  39  40  41  42  43  44  45  46  47  48  49  50  51  52  53\n",
      "  54  55  56  57  58  59  60  61  62  63  64  65  66  67  68  69  70  71\n",
      "  72  73  74  75  76  77  78  79  80  81  82  83  84  85  86  87  88  89\n",
      "  90  91  92  93  94  95  96  97  98  99 100 101 102 103 104 105 106 107\n",
      " 108 109 110 111 112 113 114 115 116 117 118 119 120 121 122 123 124 125\n",
      " 126 127 128 129 130 131 132 133 134 135 136 137 138 139 140 141 142 143\n",
      " 144 145 146 147 148 149 150 151 152 153 154 155 156 157 158 159 160 161\n",
      " 162 163 164 165 166 167 168 169 170 171 172 173 174 175 176 177 178 179\n",
      " 180 181 182 183 184 185 186 187 188 189 190 191 192 193 194 195 196 197\n",
      " 198 199 200 201 202 203 204 205 206 207 208 209 210 211 212 213 214 215\n",
      " 216 217 218 219 220 221 222 223 224 225 226 227 228 229 230 231 232 233\n",
      " 234 235 236 237 238 239 240 241 242 243 244 245 246 247 248 249 250 251\n",
      " 252 253 254 255] [  2   3   4   5   6   7   8   9  10  11  12  13  14  15  16  17  18  19\n",
      "  20  21  22  23  24  25  26  27  28  29  30  31  32  33  34  35  36  37\n",
      "  38  39  40  41  42  43  44  45  46  47  48  49  50  51  52  53  54  55\n",
      "  56  57  58  59  60  61  62  63  64  65  66  67  68  69  70  71  72  73\n",
      "  74  75  76  77  78  79  80  81  82  83  84  85  86  87  88  89  90  91\n",
      "  92  93  94  95  96  97  98  99 100 101 102 103 104 105 106 107 108 109\n",
      " 110 111 112 113 114 115 116 117 118 119 120 121 122 123 124 125 126 127\n",
      " 128 129 130 131 132 133 134 135 136 137 138 139 140 141 142 143 144 145\n",
      " 146 147 148 149 150 151 152 153 154 155 156 157 158 159 160 161 162 163\n",
      " 164 165 166 167 168 169 170 171 172 173 174 175 176 177 178 179 180 181\n",
      " 182 183 184 185 186 187 188 189 190 191 192 193 194 195 196 197 198 199\n",
      " 200 201 202 203 204 205 206 207 208 209 210 211 212 213 214 215 216 217\n",
      " 218 219 220 221 222 223 224 225 226 227 228 229 230 231 232 233 234 235\n",
      " 236 237 238 239 240 241 242 243 244 245 246 247 248 249 250 251]\n",
      "[  0.   1.   2.   3.   4.   5.   6.   7.   8.   9.  10.  11.  12.  13.\n",
      "  14.  15.  16.  17.  18.  19.  20.  21.  22.  23.  24.  25.  26.  27.\n",
      "  28.  29.  30.  31.  32.  33.  34.  35.  36.  37.  38.  39.  40.  41.\n",
      "  42.  43.  44.  45.  46.  47.  48.  49.  50.  51.  52.  53.  54.  55.\n",
      "  56.  57.  58.  59.  60.  61.  62.  63.  64.  65.  66.  67.  68.  69.\n",
      "  70.  71.  72.  73.  74.  75.  76.  77.  78.  79.  80.  81.  82.  83.\n",
      "  84.  85.  86.  87.  88.  89.  90.  91.  92.  93.  94.  95.  96.  97.\n",
      "  98.  99. 100. 101. 102. 103. 104. 105. 106. 107. 108. 109. 110. 111.\n",
      " 112. 113. 114. 115. 116. 117. 118. 119. 120. 121. 122. 123. 124. 125.\n",
      " 126. 127. 128. 129. 130. 131. 132. 133. 134. 135. 136. 137. 138. 139.\n",
      " 140. 141. 142. 143. 144. 145. 146. 147. 148. 149. 150. 151. 152. 153.\n",
      " 154. 155. 156. 157. 158. 159. 160. 161. 162. 163. 164. 165. 166. 167.\n",
      " 168. 169. 170. 171. 172. 173. 174. 175. 176. 177. 178. 179. 180. 181.\n",
      " 182. 183. 184. 185. 186. 187. 188. 189. 190. 191. 192. 193. 194. 195.\n",
      " 196. 197. 198. 199. 200. 201. 202. 203. 204. 205. 206. 207. 208. 209.\n",
      " 210. 211. 212. 213. 214. 215. 216. 217. 218. 219. 220. 221. 222. 223.\n",
      " 224. 225. 226. 227. 228. 229. 230. 231. 232. 233. 234. 235. 236. 237.\n",
      " 238. 239. 240. 241. 242. 243. 244. 245. 246. 247. 248. 249. 250. 251.\n",
      " 252. 253. 254. 255.] [  2.   3.   4.   5.   6.   7.   8.   9.  10.  11.  12.  13.  14.  15.\n",
      "  16.  17.  18.  19.  20.  21.  22.  23.  24.  25.  26.  27.  28.  29.\n",
      "  30.  31.  32.  33.  34.  35.  36.  37.  38.  39.  40.  41.  42.  43.\n",
      "  44.  45.  46.  47.  48.  49.  50.  51.  52.  53.  54.  55.  56.  57.\n",
      "  58.  59.  60.  61.  62.  63.  64.  65.  66.  67.  68.  69.  70.  71.\n",
      "  72.  73.  74.  75.  76.  77.  78.  79.  80.  81.  82.  83.  84.  85.\n",
      "  86.  87.  88.  89.  90.  91.  92.  93.  94.  95.  96.  97.  98.  99.\n",
      " 100. 101. 102. 103. 104. 105. 106. 107. 108. 109. 110. 111. 112. 113.\n",
      " 114. 115. 116. 117. 118. 119. 120. 121. 122. 123. 124. 125. 126. 127.\n",
      " 128. 129. 130. 131. 132. 133. 134. 135. 136. 137. 138. 139. 140. 141.\n",
      " 142. 143. 144. 145. 146. 147. 148. 149. 150. 151. 152. 153. 154. 155.\n",
      " 156. 157. 158. 159. 160. 161. 162. 163. 164. 165. 166. 167. 168. 169.\n",
      " 170. 171. 172. 173. 174. 175. 176. 177. 178. 179. 180. 181. 182. 183.\n",
      " 184. 185. 186. 187. 188. 189. 190. 191. 192. 193. 194. 195. 196. 197.\n",
      " 198. 199. 200. 201. 202. 203. 204. 205. 206. 207. 208. 209. 210. 211.\n",
      " 212. 213. 214. 215. 216. 217. 218. 219. 220. 221. 222. 223. 224. 225.\n",
      " 226. 227. 228. 229. 230. 231. 232. 233. 234. 235. 236. 237. 238. 239.\n",
      " 240. 241. 242. 243. 244. 245. 246. 247. 248. 249. 250. 251.]\n",
      "196.0 196.0\n",
      "(12288, 12288) (12288, 12288)\n",
      "tf.Tensor(30675072.0, shape=(), dtype=float32)\n",
      "Calculating Semantic seg score (SSS)...\n"
     ]
    },
    {
     "name": "stderr",
     "output_type": "stream",
     "text": [
      "2023-10-27 16:46:47.368653: I tensorflow/core/grappler/optimizers/custom_graph_optimizer_registry.cc:113] Plugin optimizer for device_type GPU is enabled.\n"
     ]
    },
    {
     "name": "stdout",
     "output_type": "stream",
     "text": [
      "Saving jsons for cyclegan_2\n",
      "Results saved as JSON.\n",
      "donkey cyclegan cyclegan_3\n",
      "Calculating SSIM scores...\n",
      "Calculating PSNR scores...\n",
      "Calculating MSE scores...\n",
      "Calculating cosine similarities...\n"
     ]
    },
    {
     "name": "stderr",
     "output_type": "stream",
     "text": [
      "2023-10-27 16:47:00.554457: I tensorflow/core/grappler/optimizers/custom_graph_optimizer_registry.cc:113] Plugin optimizer for device_type GPU is enabled.\n"
     ]
    },
    {
     "name": "stdout",
     "output_type": "stream",
     "text": [
      "0  out of  196\n",
      "10  out of  196\n",
      "20  out of  196\n",
      "30  out of  196\n",
      "40  out of  196\n",
      "50  out of  196\n",
      "60  out of  196\n",
      "70  out of  196\n",
      "80  out of  196\n",
      "90  out of  196\n",
      "100  out of  196\n",
      "110  out of  196\n",
      "120  out of  196\n",
      "130  out of  196\n",
      "140  out of  196\n",
      "150  out of  196\n",
      "160  out of  196\n",
      "170  out of  196\n",
      "180  out of  196\n",
      "190  out of  196\n",
      "Calculating correlation coefficients...\n",
      "Calculating Texture Similarity...\n",
      "Calculating WD Score...\n",
      "Calculating KL Divergence...\n",
      "Calculating Histogram Intersection...\n",
      "Calculating Perceptual Dist...\n",
      "Calculating Inception Score...\n"
     ]
    },
    {
     "name": "stderr",
     "output_type": "stream",
     "text": [
      "2023-10-27 16:47:44.970423: I tensorflow/core/grappler/optimizers/custom_graph_optimizer_registry.cc:113] Plugin optimizer for device_type GPU is enabled.\n"
     ]
    },
    {
     "name": "stdout",
     "output_type": "stream",
     "text": [
      "1.2347008\n",
      "Calculating FID...\n",
      "batch  0  of  6\n"
     ]
    },
    {
     "name": "stderr",
     "output_type": "stream",
     "text": [
      "2023-10-27 16:47:50.109453: I tensorflow/core/grappler/optimizers/custom_graph_optimizer_registry.cc:113] Plugin optimizer for device_type GPU is enabled.\n"
     ]
    },
    {
     "name": "stdout",
     "output_type": "stream",
     "text": [
      "batch  1  of  6\n"
     ]
    },
    {
     "name": "stderr",
     "output_type": "stream",
     "text": [
      "2023-10-27 16:47:52.861817: I tensorflow/core/grappler/optimizers/custom_graph_optimizer_registry.cc:113] Plugin optimizer for device_type GPU is enabled.\n"
     ]
    },
    {
     "name": "stdout",
     "output_type": "stream",
     "text": [
      "batch  2  of  6\n"
     ]
    },
    {
     "name": "stderr",
     "output_type": "stream",
     "text": [
      "2023-10-27 16:47:55.362501: I tensorflow/core/grappler/optimizers/custom_graph_optimizer_registry.cc:113] Plugin optimizer for device_type GPU is enabled.\n"
     ]
    },
    {
     "name": "stdout",
     "output_type": "stream",
     "text": [
      "batch  3  of  6\n"
     ]
    },
    {
     "name": "stderr",
     "output_type": "stream",
     "text": [
      "2023-10-27 16:47:57.822889: I tensorflow/core/grappler/optimizers/custom_graph_optimizer_registry.cc:113] Plugin optimizer for device_type GPU is enabled.\n"
     ]
    },
    {
     "name": "stdout",
     "output_type": "stream",
     "text": [
      "batch  4  of  6\n"
     ]
    },
    {
     "name": "stderr",
     "output_type": "stream",
     "text": [
      "2023-10-27 16:48:00.294519: I tensorflow/core/grappler/optimizers/custom_graph_optimizer_registry.cc:113] Plugin optimizer for device_type GPU is enabled.\n"
     ]
    },
    {
     "name": "stdout",
     "output_type": "stream",
     "text": [
      "batch  5  of  6\n"
     ]
    },
    {
     "name": "stderr",
     "output_type": "stream",
     "text": [
      "2023-10-27 16:48:02.847576: I tensorflow/core/grappler/optimizers/custom_graph_optimizer_registry.cc:113] Plugin optimizer for device_type GPU is enabled.\n"
     ]
    },
    {
     "name": "stdout",
     "output_type": "stream",
     "text": [
      "batch  0  of  6\n"
     ]
    },
    {
     "name": "stderr",
     "output_type": "stream",
     "text": [
      "2023-10-27 16:48:05.420595: I tensorflow/core/grappler/optimizers/custom_graph_optimizer_registry.cc:113] Plugin optimizer for device_type GPU is enabled.\n"
     ]
    },
    {
     "name": "stdout",
     "output_type": "stream",
     "text": [
      "batch  1  of  6\n"
     ]
    },
    {
     "name": "stderr",
     "output_type": "stream",
     "text": [
      "2023-10-27 16:48:07.905547: I tensorflow/core/grappler/optimizers/custom_graph_optimizer_registry.cc:113] Plugin optimizer for device_type GPU is enabled.\n"
     ]
    },
    {
     "name": "stdout",
     "output_type": "stream",
     "text": [
      "batch  2  of  6\n"
     ]
    },
    {
     "name": "stderr",
     "output_type": "stream",
     "text": [
      "2023-10-27 16:48:10.426410: I tensorflow/core/grappler/optimizers/custom_graph_optimizer_registry.cc:113] Plugin optimizer for device_type GPU is enabled.\n"
     ]
    },
    {
     "name": "stdout",
     "output_type": "stream",
     "text": [
      "batch  3  of  6\n"
     ]
    },
    {
     "name": "stderr",
     "output_type": "stream",
     "text": [
      "2023-10-27 16:48:12.805866: I tensorflow/core/grappler/optimizers/custom_graph_optimizer_registry.cc:113] Plugin optimizer for device_type GPU is enabled.\n"
     ]
    },
    {
     "name": "stdout",
     "output_type": "stream",
     "text": [
      "batch  4  of  6\n"
     ]
    },
    {
     "name": "stderr",
     "output_type": "stream",
     "text": [
      "2023-10-27 16:48:15.124016: I tensorflow/core/grappler/optimizers/custom_graph_optimizer_registry.cc:113] Plugin optimizer for device_type GPU is enabled.\n"
     ]
    },
    {
     "name": "stdout",
     "output_type": "stream",
     "text": [
      "batch  5  of  6\n"
     ]
    },
    {
     "name": "stderr",
     "output_type": "stream",
     "text": [
      "2023-10-27 16:48:17.694941: I tensorflow/core/grappler/optimizers/custom_graph_optimizer_registry.cc:113] Plugin optimizer for device_type GPU is enabled.\n"
     ]
    },
    {
     "name": "stdout",
     "output_type": "stream",
     "text": [
      "Calculating Kernel Density Estimation (KDE)...\n",
      "Calculating Kernel Inception Distance (KID)...\n",
      "[  0   1   2   3   4   5   6   7   8   9  10  11  12  13  14  15  16  17\n",
      "  18  19  20  21  22  23  24  25  26  27  28  29  30  31  32  33  34  35\n",
      "  36  37  38  39  40  41  42  43  44  45  46  47  48  49  50  51  52  53\n",
      "  54  55  56  57  58  59  60  61  62  63  64  65  66  67  68  69  70  71\n",
      "  72  73  74  75  76  77  78  79  80  81  82  83  84  85  86  87  88  89\n",
      "  90  91  92  93  94  95  96  97  98  99 100 101 102 103 104 105 106 107\n",
      " 108 109 110 111 112 113 114 115 116 117 118 119 120 121 122 123 124 125\n",
      " 126 127 128 129 130 131 132 133 134 135 136 137 138 139 140 141 142 143\n",
      " 144 145 146 147 148 149 150 151 152 153 154 155 156 157 158 159 160 161\n",
      " 162 163 164 165 166 167 168 169 170 171 172 173 174 175 176 177 178 179\n",
      " 180 181 182 183 184 185 186 187 188 189 190 191 192 193 194 195 196 197\n",
      " 198 199 200 201 202 203 204 205 206 207 208 209 210 211 212 213 214 215\n",
      " 216 217 218 219 220 221 222 223 224 225 226 227 228 229 230 231 232 233\n",
      " 234 235 236 237 238 239 240 241 242 243 244 245 246 247 248 249 250 251\n",
      " 252 253 254 255] [  3   4   5   6   7   8   9  10  11  12  13  14  15  16  17  18  19  20\n",
      "  21  22  23  24  25  26  27  28  29  30  31  32  33  34  35  36  37  38\n",
      "  39  40  41  42  43  44  45  46  47  48  49  50  51  52  53  54  55  56\n",
      "  57  58  59  60  61  62  63  64  65  66  67  68  69  70  71  72  73  74\n",
      "  75  76  77  78  79  80  81  82  83  84  85  86  87  88  89  90  91  92\n",
      "  93  94  95  96  97  98  99 100 101 102 103 104 105 106 107 108 109 110\n",
      " 111 112 113 114 115 116 117 118 119 120 121 122 123 124 125 126 127 128\n",
      " 129 130 131 132 133 134 135 136 137 138 139 140 141 142 143 144 145 146\n",
      " 147 148 149 150 151 152 153 154 155 156 157 158 159 160 161 162 163 164\n",
      " 165 166 167 168 169 170 171 172 173 174 175 176 177 178 179 180 181 182\n",
      " 183 184 185 186 187 188 189 190 191 192 193 194 195 196 197 198 199 200\n",
      " 201 202 203 204 205 206 207 208 209 210 211 212 213 214 215 216 217 218\n",
      " 219 220 221 222 223 224 225 226 227 228 229 230 231 232 233 234 235 236\n",
      " 237 238 239]\n",
      "[  0.   1.   2.   3.   4.   5.   6.   7.   8.   9.  10.  11.  12.  13.\n",
      "  14.  15.  16.  17.  18.  19.  20.  21.  22.  23.  24.  25.  26.  27.\n",
      "  28.  29.  30.  31.  32.  33.  34.  35.  36.  37.  38.  39.  40.  41.\n",
      "  42.  43.  44.  45.  46.  47.  48.  49.  50.  51.  52.  53.  54.  55.\n",
      "  56.  57.  58.  59.  60.  61.  62.  63.  64.  65.  66.  67.  68.  69.\n",
      "  70.  71.  72.  73.  74.  75.  76.  77.  78.  79.  80.  81.  82.  83.\n",
      "  84.  85.  86.  87.  88.  89.  90.  91.  92.  93.  94.  95.  96.  97.\n",
      "  98.  99. 100. 101. 102. 103. 104. 105. 106. 107. 108. 109. 110. 111.\n",
      " 112. 113. 114. 115. 116. 117. 118. 119. 120. 121. 122. 123. 124. 125.\n",
      " 126. 127. 128. 129. 130. 131. 132. 133. 134. 135. 136. 137. 138. 139.\n",
      " 140. 141. 142. 143. 144. 145. 146. 147. 148. 149. 150. 151. 152. 153.\n",
      " 154. 155. 156. 157. 158. 159. 160. 161. 162. 163. 164. 165. 166. 167.\n",
      " 168. 169. 170. 171. 172. 173. 174. 175. 176. 177. 178. 179. 180. 181.\n",
      " 182. 183. 184. 185. 186. 187. 188. 189. 190. 191. 192. 193. 194. 195.\n",
      " 196. 197. 198. 199. 200. 201. 202. 203. 204. 205. 206. 207. 208. 209.\n",
      " 210. 211. 212. 213. 214. 215. 216. 217. 218. 219. 220. 221. 222. 223.\n",
      " 224. 225. 226. 227. 228. 229. 230. 231. 232. 233. 234. 235. 236. 237.\n",
      " 238. 239. 240. 241. 242. 243. 244. 245. 246. 247. 248. 249. 250. 251.\n",
      " 252. 253. 254. 255.] [  3.   4.   5.   6.   7.   8.   9.  10.  11.  12.  13.  14.  15.  16.\n",
      "  17.  18.  19.  20.  21.  22.  23.  24.  25.  26.  27.  28.  29.  30.\n",
      "  31.  32.  33.  34.  35.  36.  37.  38.  39.  40.  41.  42.  43.  44.\n",
      "  45.  46.  47.  48.  49.  50.  51.  52.  53.  54.  55.  56.  57.  58.\n",
      "  59.  60.  61.  62.  63.  64.  65.  66.  67.  68.  69.  70.  71.  72.\n",
      "  73.  74.  75.  76.  77.  78.  79.  80.  81.  82.  83.  84.  85.  86.\n",
      "  87.  88.  89.  90.  91.  92.  93.  94.  95.  96.  97.  98.  99. 100.\n",
      " 101. 102. 103. 104. 105. 106. 107. 108. 109. 110. 111. 112. 113. 114.\n",
      " 115. 116. 117. 118. 119. 120. 121. 122. 123. 124. 125. 126. 127. 128.\n",
      " 129. 130. 131. 132. 133. 134. 135. 136. 137. 138. 139. 140. 141. 142.\n",
      " 143. 144. 145. 146. 147. 148. 149. 150. 151. 152. 153. 154. 155. 156.\n",
      " 157. 158. 159. 160. 161. 162. 163. 164. 165. 166. 167. 168. 169. 170.\n",
      " 171. 172. 173. 174. 175. 176. 177. 178. 179. 180. 181. 182. 183. 184.\n",
      " 185. 186. 187. 188. 189. 190. 191. 192. 193. 194. 195. 196. 197. 198.\n",
      " 199. 200. 201. 202. 203. 204. 205. 206. 207. 208. 209. 210. 211. 212.\n",
      " 213. 214. 215. 216. 217. 218. 219. 220. 221. 222. 223. 224. 225. 226.\n",
      " 227. 228. 229. 230. 231. 232. 233. 234. 235. 236. 237. 238. 239.]\n",
      "196.0 196.0\n",
      "(12288, 12288) (12288, 12288)\n",
      "tf.Tensor(30493944.0, shape=(), dtype=float32)\n",
      "Calculating Semantic seg score (SSS)...\n"
     ]
    },
    {
     "name": "stderr",
     "output_type": "stream",
     "text": [
      "2023-10-27 16:48:30.370721: I tensorflow/core/grappler/optimizers/custom_graph_optimizer_registry.cc:113] Plugin optimizer for device_type GPU is enabled.\n"
     ]
    },
    {
     "name": "stdout",
     "output_type": "stream",
     "text": [
      "Saving jsons for cyclegan_3\n",
      "Results saved as JSON.\n",
      "donkey pix2pix_mask_manual pix2pix_mask_1_sim\n",
      "Calculating SSIM scores...\n",
      "Calculating PSNR scores...\n",
      "Calculating MSE scores...\n",
      "Calculating cosine similarities...\n"
     ]
    },
    {
     "name": "stderr",
     "output_type": "stream",
     "text": [
      "2023-10-27 16:48:43.630318: I tensorflow/core/grappler/optimizers/custom_graph_optimizer_registry.cc:113] Plugin optimizer for device_type GPU is enabled.\n"
     ]
    },
    {
     "name": "stdout",
     "output_type": "stream",
     "text": [
      "0  out of  196\n",
      "10  out of  196\n",
      "20  out of  196\n",
      "30  out of  196\n",
      "40  out of  196\n",
      "50  out of  196\n",
      "60  out of  196\n",
      "70  out of  196\n",
      "80  out of  196\n",
      "90  out of  196\n",
      "100  out of  196\n",
      "110  out of  196\n",
      "120  out of  196\n",
      "130  out of  196\n",
      "140  out of  196\n",
      "150  out of  196\n",
      "160  out of  196\n",
      "170  out of  196\n",
      "180  out of  196\n",
      "190  out of  196\n",
      "Calculating correlation coefficients...\n",
      "Calculating Texture Similarity...\n",
      "Calculating WD Score...\n",
      "Calculating KL Divergence...\n",
      "Calculating Histogram Intersection...\n",
      "Calculating Perceptual Dist...\n",
      "Calculating Inception Score...\n"
     ]
    },
    {
     "name": "stderr",
     "output_type": "stream",
     "text": [
      "2023-10-27 16:49:28.339814: I tensorflow/core/grappler/optimizers/custom_graph_optimizer_registry.cc:113] Plugin optimizer for device_type GPU is enabled.\n"
     ]
    },
    {
     "name": "stdout",
     "output_type": "stream",
     "text": [
      "1.3354428\n",
      "Calculating FID...\n",
      "batch  0  of  6\n"
     ]
    },
    {
     "name": "stderr",
     "output_type": "stream",
     "text": [
      "2023-10-27 16:49:31.641046: I tensorflow/core/grappler/optimizers/custom_graph_optimizer_registry.cc:113] Plugin optimizer for device_type GPU is enabled.\n"
     ]
    },
    {
     "name": "stdout",
     "output_type": "stream",
     "text": [
      "batch  1  of  6\n"
     ]
    },
    {
     "name": "stderr",
     "output_type": "stream",
     "text": [
      "2023-10-27 16:49:33.938132: I tensorflow/core/grappler/optimizers/custom_graph_optimizer_registry.cc:113] Plugin optimizer for device_type GPU is enabled.\n"
     ]
    },
    {
     "name": "stdout",
     "output_type": "stream",
     "text": [
      "batch  2  of  6\n"
     ]
    },
    {
     "name": "stderr",
     "output_type": "stream",
     "text": [
      "2023-10-27 16:49:36.125316: I tensorflow/core/grappler/optimizers/custom_graph_optimizer_registry.cc:113] Plugin optimizer for device_type GPU is enabled.\n"
     ]
    },
    {
     "name": "stdout",
     "output_type": "stream",
     "text": [
      "batch  3  of  6\n"
     ]
    },
    {
     "name": "stderr",
     "output_type": "stream",
     "text": [
      "2023-10-27 16:49:38.576982: I tensorflow/core/grappler/optimizers/custom_graph_optimizer_registry.cc:113] Plugin optimizer for device_type GPU is enabled.\n"
     ]
    },
    {
     "name": "stdout",
     "output_type": "stream",
     "text": [
      "batch  4  of  6\n"
     ]
    },
    {
     "name": "stderr",
     "output_type": "stream",
     "text": [
      "2023-10-27 16:49:42.301116: I tensorflow/core/grappler/optimizers/custom_graph_optimizer_registry.cc:113] Plugin optimizer for device_type GPU is enabled.\n"
     ]
    },
    {
     "name": "stdout",
     "output_type": "stream",
     "text": [
      "batch  5  of  6\n"
     ]
    },
    {
     "name": "stderr",
     "output_type": "stream",
     "text": [
      "2023-10-27 16:49:42.906454: I tensorflow/core/grappler/optimizers/custom_graph_optimizer_registry.cc:113] Plugin optimizer for device_type GPU is enabled.\n"
     ]
    },
    {
     "name": "stdout",
     "output_type": "stream",
     "text": [
      "batch  0  of  6\n"
     ]
    },
    {
     "name": "stderr",
     "output_type": "stream",
     "text": [
      "2023-10-27 16:49:43.598092: I tensorflow/core/grappler/optimizers/custom_graph_optimizer_registry.cc:113] Plugin optimizer for device_type GPU is enabled.\n"
     ]
    },
    {
     "name": "stdout",
     "output_type": "stream",
     "text": [
      "batch  1  of  6\n"
     ]
    },
    {
     "name": "stderr",
     "output_type": "stream",
     "text": [
      "2023-10-27 16:49:47.366585: I tensorflow/core/grappler/optimizers/custom_graph_optimizer_registry.cc:113] Plugin optimizer for device_type GPU is enabled.\n"
     ]
    },
    {
     "name": "stdout",
     "output_type": "stream",
     "text": [
      "batch  2  of  6\n"
     ]
    },
    {
     "name": "stderr",
     "output_type": "stream",
     "text": [
      "2023-10-27 16:49:51.247994: I tensorflow/core/grappler/optimizers/custom_graph_optimizer_registry.cc:113] Plugin optimizer for device_type GPU is enabled.\n"
     ]
    },
    {
     "name": "stdout",
     "output_type": "stream",
     "text": [
      "batch  3  of  6\n"
     ]
    },
    {
     "name": "stderr",
     "output_type": "stream",
     "text": [
      "2023-10-27 16:49:55.162531: I tensorflow/core/grappler/optimizers/custom_graph_optimizer_registry.cc:113] Plugin optimizer for device_type GPU is enabled.\n"
     ]
    },
    {
     "name": "stdout",
     "output_type": "stream",
     "text": [
      "batch  4  of  6\n"
     ]
    },
    {
     "name": "stderr",
     "output_type": "stream",
     "text": [
      "2023-10-27 16:49:59.176449: I tensorflow/core/grappler/optimizers/custom_graph_optimizer_registry.cc:113] Plugin optimizer for device_type GPU is enabled.\n"
     ]
    },
    {
     "name": "stdout",
     "output_type": "stream",
     "text": [
      "batch  5  of  6\n"
     ]
    },
    {
     "name": "stderr",
     "output_type": "stream",
     "text": [
      "2023-10-27 16:50:03.245302: I tensorflow/core/grappler/optimizers/custom_graph_optimizer_registry.cc:113] Plugin optimizer for device_type GPU is enabled.\n"
     ]
    },
    {
     "name": "stdout",
     "output_type": "stream",
     "text": [
      "Calculating Kernel Density Estimation (KDE)...\n",
      "Calculating Kernel Inception Distance (KID)...\n",
      "[  0   1   2   3   4   5   6   7   8   9  10  11  12  13  14  15  16  17\n",
      "  18  19  20  21  22  23  24  25  26  27  28  29  30  31  32  33  34  35\n",
      "  36  37  38  39  40  41  42  43  44  45  46  47  48  49  50  51  52  53\n",
      "  54  55  56  57  58  59  60  61  62  63  64  65  66  67  68  69  70  71\n",
      "  72  73  74  75  76  77  78  79  80  81  82  83  84  85  86  87  88  89\n",
      "  90  91  92  93  94  95  96  97  98  99 100 101 102 103 104 105 106 107\n",
      " 108 109 110 111 112 113 114 115 116 117 118 119 120 121 122 123 124 125\n",
      " 126 127 128 129 130 131 132 133 134 135 136 137 138 139 140 141 142 143\n",
      " 144 145 146 147 148 149 150 151 152 153 154 155 156 157 158 159 160 161\n",
      " 162 163 164 165 166 167 168 169 170 171 172 173 174 175 176 177 178 179\n",
      " 180 181 182 183 184 185 186 187 188 189 190 191 192 193 194 195 196 197\n",
      " 198 199 200 201 202 203 204 205 206 207 208 209 210 211 212 213 214 215\n",
      " 216 217 218 219 220 221 222 223 224 225 226 227 228 229 230 231 232 233\n",
      " 234 235 236 237 238 239 240 241 242 243 244 245 246 247 248 249 250 251\n",
      " 252 253 254 255] [  2   3   5   6   7   8   9  10  11  12  13  14  15  16  17  18  19  20\n",
      "  21  22  23  24  25  26  27  28  29  30  31  32  33  34  35  36  37  38\n",
      "  39  40  41  42  43  44  45  46  47  48  49  50  51  52  53  54  55  56\n",
      "  57  58  59  60  61  62  63  64  65  66  67  68  69  70  71  72  73  74\n",
      "  75  76  77  78  79  80  81  82  83  84  85  86  87  88  89  90  91  92\n",
      "  93  94  95  96  97  98  99 100 101 102 103 104 105 106 107 108 109 110\n",
      " 111 112 113 114 115 116 117 118 119 120 121 122 123 124 125 126 127 128\n",
      " 129 130 131 132 133 134 135 136 137 138 139 140 141 142 143 144 145 146\n",
      " 147 148 149 150 151 152 153 154 155 156 157 158 159 160 161 162 163 164\n",
      " 165 166 167 168 169 170 171 172 173 174 175 176 177 178 179 180 181 182\n",
      " 183 184 185 186 187 188 189 190 191 192 193 194 195 196 197 198 199 200\n",
      " 201 202 203 204 205 206 207 208 209 210 211 212 213 214 215 216 217 218\n",
      " 219 220 221 222 223 224 225 226 227 228 229 230 231 232 233 234 235 236\n",
      " 237 238 239 240 241 242 243 244 246]\n",
      "[  0.   1.   2.   3.   4.   5.   6.   7.   8.   9.  10.  11.  12.  13.\n",
      "  14.  15.  16.  17.  18.  19.  20.  21.  22.  23.  24.  25.  26.  27.\n",
      "  28.  29.  30.  31.  32.  33.  34.  35.  36.  37.  38.  39.  40.  41.\n",
      "  42.  43.  44.  45.  46.  47.  48.  49.  50.  51.  52.  53.  54.  55.\n",
      "  56.  57.  58.  59.  60.  61.  62.  63.  64.  65.  66.  67.  68.  69.\n",
      "  70.  71.  72.  73.  74.  75.  76.  77.  78.  79.  80.  81.  82.  83.\n",
      "  84.  85.  86.  87.  88.  89.  90.  91.  92.  93.  94.  95.  96.  97.\n",
      "  98.  99. 100. 101. 102. 103. 104. 105. 106. 107. 108. 109. 110. 111.\n",
      " 112. 113. 114. 115. 116. 117. 118. 119. 120. 121. 122. 123. 124. 125.\n",
      " 126. 127. 128. 129. 130. 131. 132. 133. 134. 135. 136. 137. 138. 139.\n",
      " 140. 141. 142. 143. 144. 145. 146. 147. 148. 149. 150. 151. 152. 153.\n",
      " 154. 155. 156. 157. 158. 159. 160. 161. 162. 163. 164. 165. 166. 167.\n",
      " 168. 169. 170. 171. 172. 173. 174. 175. 176. 177. 178. 179. 180. 181.\n",
      " 182. 183. 184. 185. 186. 187. 188. 189. 190. 191. 192. 193. 194. 195.\n",
      " 196. 197. 198. 199. 200. 201. 202. 203. 204. 205. 206. 207. 208. 209.\n",
      " 210. 211. 212. 213. 214. 215. 216. 217. 218. 219. 220. 221. 222. 223.\n",
      " 224. 225. 226. 227. 228. 229. 230. 231. 232. 233. 234. 235. 236. 237.\n",
      " 238. 239. 240. 241. 242. 243. 244. 245. 246. 247. 248. 249. 250. 251.\n",
      " 252. 253. 254. 255.] [  2.   3.   5.   6.   7.   8.   9.  10.  11.  12.  13.  14.  15.  16.\n",
      "  17.  18.  19.  20.  21.  22.  23.  24.  25.  26.  27.  28.  29.  30.\n",
      "  31.  32.  33.  34.  35.  36.  37.  38.  39.  40.  41.  42.  43.  44.\n",
      "  45.  46.  47.  48.  49.  50.  51.  52.  53.  54.  55.  56.  57.  58.\n",
      "  59.  60.  61.  62.  63.  64.  65.  66.  67.  68.  69.  70.  71.  72.\n",
      "  73.  74.  75.  76.  77.  78.  79.  80.  81.  82.  83.  84.  85.  86.\n",
      "  87.  88.  89.  90.  91.  92.  93.  94.  95.  96.  97.  98.  99. 100.\n",
      " 101. 102. 103. 104. 105. 106. 107. 108. 109. 110. 111. 112. 113. 114.\n",
      " 115. 116. 117. 118. 119. 120. 121. 122. 123. 124. 125. 126. 127. 128.\n",
      " 129. 130. 131. 132. 133. 134. 135. 136. 137. 138. 139. 140. 141. 142.\n",
      " 143. 144. 145. 146. 147. 148. 149. 150. 151. 152. 153. 154. 155. 156.\n",
      " 157. 158. 159. 160. 161. 162. 163. 164. 165. 166. 167. 168. 169. 170.\n",
      " 171. 172. 173. 174. 175. 176. 177. 178. 179. 180. 181. 182. 183. 184.\n",
      " 185. 186. 187. 188. 189. 190. 191. 192. 193. 194. 195. 196. 197. 198.\n",
      " 199. 200. 201. 202. 203. 204. 205. 206. 207. 208. 209. 210. 211. 212.\n",
      " 213. 214. 215. 216. 217. 218. 219. 220. 221. 222. 223. 224. 225. 226.\n",
      " 227. 228. 229. 230. 231. 232. 233. 234. 235. 236. 237. 238. 239. 240.\n",
      " 241. 242. 243. 244. 246.]\n",
      "196.0 196.0\n",
      "(12288, 12288) (12288, 12288)\n",
      "tf.Tensor(29155984.0, shape=(), dtype=float32)\n",
      "Calculating Semantic seg score (SSS)...\n"
     ]
    },
    {
     "name": "stderr",
     "output_type": "stream",
     "text": [
      "2023-10-27 16:50:17.158382: I tensorflow/core/grappler/optimizers/custom_graph_optimizer_registry.cc:113] Plugin optimizer for device_type GPU is enabled.\n"
     ]
    },
    {
     "name": "stdout",
     "output_type": "stream",
     "text": [
      "Saving jsons for pix2pix_mask_1_sim\n",
      "Results saved as JSON.\n",
      "donkey pix2pix_mask_manual pix2pix_mask_2_sim\n",
      "Calculating SSIM scores...\n",
      "Calculating PSNR scores...\n",
      "Calculating MSE scores...\n",
      "Calculating cosine similarities...\n"
     ]
    },
    {
     "name": "stderr",
     "output_type": "stream",
     "text": [
      "2023-10-27 16:50:29.945205: I tensorflow/core/grappler/optimizers/custom_graph_optimizer_registry.cc:113] Plugin optimizer for device_type GPU is enabled.\n"
     ]
    },
    {
     "name": "stdout",
     "output_type": "stream",
     "text": [
      "0  out of  196\n",
      "10  out of  196\n",
      "20  out of  196\n",
      "30  out of  196\n",
      "40  out of  196\n",
      "50  out of  196\n",
      "60  out of  196\n",
      "70  out of  196\n",
      "80  out of  196\n",
      "90  out of  196\n",
      "100  out of  196\n",
      "110  out of  196\n",
      "120  out of  196\n",
      "130  out of  196\n",
      "140  out of  196\n",
      "150  out of  196\n",
      "160  out of  196\n",
      "170  out of  196\n",
      "180  out of  196\n",
      "190  out of  196\n",
      "Calculating correlation coefficients...\n",
      "Calculating Texture Similarity...\n",
      "Calculating WD Score...\n",
      "Calculating KL Divergence...\n",
      "Calculating Histogram Intersection...\n",
      "Calculating Perceptual Dist...\n",
      "Calculating Inception Score...\n"
     ]
    },
    {
     "name": "stderr",
     "output_type": "stream",
     "text": [
      "2023-10-27 16:51:13.834153: I tensorflow/core/grappler/optimizers/custom_graph_optimizer_registry.cc:113] Plugin optimizer for device_type GPU is enabled.\n"
     ]
    },
    {
     "name": "stdout",
     "output_type": "stream",
     "text": [
      "5.426133\n",
      "Calculating FID...\n",
      "batch  0  of  6\n"
     ]
    },
    {
     "name": "stderr",
     "output_type": "stream",
     "text": [
      "2023-10-27 16:51:20.443824: I tensorflow/core/grappler/optimizers/custom_graph_optimizer_registry.cc:113] Plugin optimizer for device_type GPU is enabled.\n"
     ]
    },
    {
     "name": "stdout",
     "output_type": "stream",
     "text": [
      "batch  1  of  6\n"
     ]
    },
    {
     "name": "stderr",
     "output_type": "stream",
     "text": [
      "2023-10-27 16:51:24.866532: I tensorflow/core/grappler/optimizers/custom_graph_optimizer_registry.cc:113] Plugin optimizer for device_type GPU is enabled.\n"
     ]
    },
    {
     "name": "stdout",
     "output_type": "stream",
     "text": [
      "batch  2  of  6\n"
     ]
    },
    {
     "name": "stderr",
     "output_type": "stream",
     "text": [
      "2023-10-27 16:51:25.650199: I tensorflow/core/grappler/optimizers/custom_graph_optimizer_registry.cc:113] Plugin optimizer for device_type GPU is enabled.\n"
     ]
    },
    {
     "name": "stdout",
     "output_type": "stream",
     "text": [
      "batch  3  of  6\n"
     ]
    },
    {
     "name": "stderr",
     "output_type": "stream",
     "text": [
      "2023-10-27 16:51:29.941877: I tensorflow/core/grappler/optimizers/custom_graph_optimizer_registry.cc:113] Plugin optimizer for device_type GPU is enabled.\n"
     ]
    },
    {
     "name": "stdout",
     "output_type": "stream",
     "text": [
      "batch  4  of  6\n"
     ]
    },
    {
     "name": "stderr",
     "output_type": "stream",
     "text": [
      "2023-10-27 16:51:34.353286: I tensorflow/core/grappler/optimizers/custom_graph_optimizer_registry.cc:113] Plugin optimizer for device_type GPU is enabled.\n"
     ]
    },
    {
     "name": "stdout",
     "output_type": "stream",
     "text": [
      "batch  5  of  6\n"
     ]
    },
    {
     "name": "stderr",
     "output_type": "stream",
     "text": [
      "2023-10-27 16:51:35.285428: I tensorflow/core/grappler/optimizers/custom_graph_optimizer_registry.cc:113] Plugin optimizer for device_type GPU is enabled.\n"
     ]
    },
    {
     "name": "stdout",
     "output_type": "stream",
     "text": [
      "batch  0  of  6\n"
     ]
    },
    {
     "name": "stderr",
     "output_type": "stream",
     "text": [
      "2023-10-27 16:51:39.685895: I tensorflow/core/grappler/optimizers/custom_graph_optimizer_registry.cc:113] Plugin optimizer for device_type GPU is enabled.\n"
     ]
    },
    {
     "name": "stdout",
     "output_type": "stream",
     "text": [
      "batch  1  of  6\n"
     ]
    },
    {
     "name": "stderr",
     "output_type": "stream",
     "text": [
      "2023-10-27 16:51:40.682365: I tensorflow/core/grappler/optimizers/custom_graph_optimizer_registry.cc:113] Plugin optimizer for device_type GPU is enabled.\n"
     ]
    },
    {
     "name": "stdout",
     "output_type": "stream",
     "text": [
      "batch  2  of  6\n"
     ]
    },
    {
     "name": "stderr",
     "output_type": "stream",
     "text": [
      "2023-10-27 16:51:41.578827: I tensorflow/core/grappler/optimizers/custom_graph_optimizer_registry.cc:113] Plugin optimizer for device_type GPU is enabled.\n"
     ]
    },
    {
     "name": "stdout",
     "output_type": "stream",
     "text": [
      "batch  3  of  6\n"
     ]
    },
    {
     "name": "stderr",
     "output_type": "stream",
     "text": [
      "2023-10-27 16:51:45.940818: I tensorflow/core/grappler/optimizers/custom_graph_optimizer_registry.cc:113] Plugin optimizer for device_type GPU is enabled.\n"
     ]
    },
    {
     "name": "stdout",
     "output_type": "stream",
     "text": [
      "batch  4  of  6\n"
     ]
    },
    {
     "name": "stderr",
     "output_type": "stream",
     "text": [
      "2023-10-27 16:51:50.211797: I tensorflow/core/grappler/optimizers/custom_graph_optimizer_registry.cc:113] Plugin optimizer for device_type GPU is enabled.\n"
     ]
    },
    {
     "name": "stdout",
     "output_type": "stream",
     "text": [
      "batch  5  of  6\n"
     ]
    },
    {
     "name": "stderr",
     "output_type": "stream",
     "text": [
      "2023-10-27 16:51:54.489442: I tensorflow/core/grappler/optimizers/custom_graph_optimizer_registry.cc:113] Plugin optimizer for device_type GPU is enabled.\n"
     ]
    },
    {
     "name": "stdout",
     "output_type": "stream",
     "text": [
      "Calculating Kernel Density Estimation (KDE)...\n",
      "Calculating Kernel Inception Distance (KID)...\n",
      "[  0   1   2   3   4   5   6   7   8   9  10  11  12  13  14  15  16  17\n",
      "  18  19  20  21  22  23  24  25  26  27  28  29  30  31  32  33  34  35\n",
      "  36  37  38  39  40  41  42  43  44  45  46  47  48  49  50  51  52  53\n",
      "  54  55  56  57  58  59  60  61  62  63  64  65  66  67  68  69  70  71\n",
      "  72  73  74  75  76  77  78  79  80  81  82  83  84  85  86  87  88  89\n",
      "  90  91  92  93  94  95  96  97  98  99 100 101 102 103 104 105 106 107\n",
      " 108 109 110 111 112 113 114 115 116 117 118 119 120 121 122 123 124 125\n",
      " 126 127 128 129 130 131 132 133 134 135 136 137 138 139 140 141 142 143\n",
      " 144 145 146 147 148 149 150 151 152 153 154 155 156 157 158 159 160 161\n",
      " 162 163 164 165 166 167 168 169 170 171 172 173 174 175 176 177 178 179\n",
      " 180 181 182 183 184 185 186 187 188 189 190 191 192 193 194 195 196 197\n",
      " 198 199 200 201 202 203 204 205 206 207 208 209 210 211 212 213 214 215\n",
      " 216 217 218 219 220 221 222 223 224 225 226 227 228 229 230 231 232 233\n",
      " 234 235 236 237 238 239 240 241 242 243 244 245 246 247 248 249 250 251\n",
      " 252 253 254 255] [  0   2   3   4   5   6   7   8   9  10  11  12  13  14  15  16  17  18\n",
      "  19  20  21  22  23  24  25  26  27  28  29  30  31  32  33  34  35  36\n",
      "  37  38  39  40  41  42  43  44  45  46  47  48  49  50  51  52  53  54\n",
      "  55  56  57  58  59  60  61  62  63  64  65  66  67  68  69  70  71  72\n",
      "  73  74  75  76  77  78  79  80  81  82  83  84  85  86  87  88  89  90\n",
      "  91  92  93  94  95  96  97  98  99 100 101 102 103 104 105 106 107 108\n",
      " 109 110 111 112 113 114 115 116 117 118 119 120 121 122 123 124 125 126\n",
      " 127 128 129 130 131 132 133 134 135 136 137 138 139 140 141 142 143 144\n",
      " 145 146 147 148 149 150 151 152 153 154 155 156 157 158 159 160 161 162\n",
      " 163 164 165 166 167 168 169 170 171 172 173 174 175 176 177 178 179 180\n",
      " 181 182 183 184 185 186 187 188 189 190 191 192 193 194 195 196 197 198\n",
      " 199 200 201 202 203 204 205 206 207 208 209 210 211 212 213 214 215 216\n",
      " 217 218 219 220 221 222 223 224 225 226 227 228 229 230 231 232 233 234\n",
      " 235 236 237 238 239 240 241 242 243 244 245 246 247 248 249 250 251 252\n",
      " 253]\n",
      "[  0.   1.   2.   3.   4.   5.   6.   7.   8.   9.  10.  11.  12.  13.\n",
      "  14.  15.  16.  17.  18.  19.  20.  21.  22.  23.  24.  25.  26.  27.\n",
      "  28.  29.  30.  31.  32.  33.  34.  35.  36.  37.  38.  39.  40.  41.\n",
      "  42.  43.  44.  45.  46.  47.  48.  49.  50.  51.  52.  53.  54.  55.\n",
      "  56.  57.  58.  59.  60.  61.  62.  63.  64.  65.  66.  67.  68.  69.\n",
      "  70.  71.  72.  73.  74.  75.  76.  77.  78.  79.  80.  81.  82.  83.\n",
      "  84.  85.  86.  87.  88.  89.  90.  91.  92.  93.  94.  95.  96.  97.\n",
      "  98.  99. 100. 101. 102. 103. 104. 105. 106. 107. 108. 109. 110. 111.\n",
      " 112. 113. 114. 115. 116. 117. 118. 119. 120. 121. 122. 123. 124. 125.\n",
      " 126. 127. 128. 129. 130. 131. 132. 133. 134. 135. 136. 137. 138. 139.\n",
      " 140. 141. 142. 143. 144. 145. 146. 147. 148. 149. 150. 151. 152. 153.\n",
      " 154. 155. 156. 157. 158. 159. 160. 161. 162. 163. 164. 165. 166. 167.\n",
      " 168. 169. 170. 171. 172. 173. 174. 175. 176. 177. 178. 179. 180. 181.\n",
      " 182. 183. 184. 185. 186. 187. 188. 189. 190. 191. 192. 193. 194. 195.\n",
      " 196. 197. 198. 199. 200. 201. 202. 203. 204. 205. 206. 207. 208. 209.\n",
      " 210. 211. 212. 213. 214. 215. 216. 217. 218. 219. 220. 221. 222. 223.\n",
      " 224. 225. 226. 227. 228. 229. 230. 231. 232. 233. 234. 235. 236. 237.\n",
      " 238. 239. 240. 241. 242. 243. 244. 245. 246. 247. 248. 249. 250. 251.\n",
      " 252. 253. 254. 255.] [  0.   2.   3.   4.   5.   6.   7.   8.   9.  10.  11.  12.  13.  14.\n",
      "  15.  16.  17.  18.  19.  20.  21.  22.  23.  24.  25.  26.  27.  28.\n",
      "  29.  30.  31.  32.  33.  34.  35.  36.  37.  38.  39.  40.  41.  42.\n",
      "  43.  44.  45.  46.  47.  48.  49.  50.  51.  52.  53.  54.  55.  56.\n",
      "  57.  58.  59.  60.  61.  62.  63.  64.  65.  66.  67.  68.  69.  70.\n",
      "  71.  72.  73.  74.  75.  76.  77.  78.  79.  80.  81.  82.  83.  84.\n",
      "  85.  86.  87.  88.  89.  90.  91.  92.  93.  94.  95.  96.  97.  98.\n",
      "  99. 100. 101. 102. 103. 104. 105. 106. 107. 108. 109. 110. 111. 112.\n",
      " 113. 114. 115. 116. 117. 118. 119. 120. 121. 122. 123. 124. 125. 126.\n",
      " 127. 128. 129. 130. 131. 132. 133. 134. 135. 136. 137. 138. 139. 140.\n",
      " 141. 142. 143. 144. 145. 146. 147. 148. 149. 150. 151. 152. 153. 154.\n",
      " 155. 156. 157. 158. 159. 160. 161. 162. 163. 164. 165. 166. 167. 168.\n",
      " 169. 170. 171. 172. 173. 174. 175. 176. 177. 178. 179. 180. 181. 182.\n",
      " 183. 184. 185. 186. 187. 188. 189. 190. 191. 192. 193. 194. 195. 196.\n",
      " 197. 198. 199. 200. 201. 202. 203. 204. 205. 206. 207. 208. 209. 210.\n",
      " 211. 212. 213. 214. 215. 216. 217. 218. 219. 220. 221. 222. 223. 224.\n",
      " 225. 226. 227. 228. 229. 230. 231. 232. 233. 234. 235. 236. 237. 238.\n",
      " 239. 240. 241. 242. 243. 244. 245. 246. 247. 248. 249. 250. 251. 252.\n",
      " 253.]\n",
      "196.0 196.0\n",
      "(12288, 12288) (12288, 12288)\n",
      "tf.Tensor(47931400.0, shape=(), dtype=float32)\n",
      "Calculating Semantic seg score (SSS)...\n"
     ]
    },
    {
     "name": "stderr",
     "output_type": "stream",
     "text": [
      "2023-10-27 16:52:08.777579: I tensorflow/core/grappler/optimizers/custom_graph_optimizer_registry.cc:113] Plugin optimizer for device_type GPU is enabled.\n"
     ]
    },
    {
     "name": "stdout",
     "output_type": "stream",
     "text": [
      "Saving jsons for pix2pix_mask_2_sim\n",
      "Results saved as JSON.\n",
      "donkey pix2pix_mask_manual pix2pix_mask_3_sim\n",
      "Calculating SSIM scores...\n",
      "Calculating PSNR scores...\n",
      "Calculating MSE scores...\n",
      "Calculating cosine similarities...\n"
     ]
    },
    {
     "name": "stderr",
     "output_type": "stream",
     "text": [
      "2023-10-27 16:52:21.758458: I tensorflow/core/grappler/optimizers/custom_graph_optimizer_registry.cc:113] Plugin optimizer for device_type GPU is enabled.\n"
     ]
    },
    {
     "name": "stdout",
     "output_type": "stream",
     "text": [
      "0  out of  196\n",
      "10  out of  196\n",
      "20  out of  196\n",
      "30  out of  196\n",
      "40  out of  196\n",
      "50  out of  196\n",
      "60  out of  196\n",
      "70  out of  196\n",
      "80  out of  196\n",
      "90  out of  196\n",
      "100  out of  196\n",
      "110  out of  196\n",
      "120  out of  196\n",
      "130  out of  196\n",
      "140  out of  196\n",
      "150  out of  196\n",
      "160  out of  196\n",
      "170  out of  196\n",
      "180  out of  196\n",
      "190  out of  196\n",
      "Calculating correlation coefficients...\n",
      "Calculating Texture Similarity...\n",
      "Calculating WD Score...\n",
      "Calculating KL Divergence...\n",
      "Calculating Histogram Intersection...\n",
      "Calculating Perceptual Dist...\n",
      "Calculating Inception Score...\n"
     ]
    },
    {
     "name": "stderr",
     "output_type": "stream",
     "text": [
      "2023-10-27 16:53:04.225172: I tensorflow/core/grappler/optimizers/custom_graph_optimizer_registry.cc:113] Plugin optimizer for device_type GPU is enabled.\n"
     ]
    },
    {
     "name": "stdout",
     "output_type": "stream",
     "text": [
      "8.017001\n",
      "Calculating FID...\n",
      "batch  0  of  6\n"
     ]
    },
    {
     "name": "stderr",
     "output_type": "stream",
     "text": [
      "2023-10-27 16:53:11.065960: I tensorflow/core/grappler/optimizers/custom_graph_optimizer_registry.cc:113] Plugin optimizer for device_type GPU is enabled.\n"
     ]
    },
    {
     "name": "stdout",
     "output_type": "stream",
     "text": [
      "batch  1  of  6\n"
     ]
    },
    {
     "name": "stderr",
     "output_type": "stream",
     "text": [
      "2023-10-27 16:53:15.600232: I tensorflow/core/grappler/optimizers/custom_graph_optimizer_registry.cc:113] Plugin optimizer for device_type GPU is enabled.\n"
     ]
    },
    {
     "name": "stdout",
     "output_type": "stream",
     "text": [
      "batch  2  of  6\n"
     ]
    },
    {
     "name": "stderr",
     "output_type": "stream",
     "text": [
      "2023-10-27 16:53:19.991176: I tensorflow/core/grappler/optimizers/custom_graph_optimizer_registry.cc:113] Plugin optimizer for device_type GPU is enabled.\n"
     ]
    },
    {
     "name": "stdout",
     "output_type": "stream",
     "text": [
      "batch  3  of  6\n"
     ]
    },
    {
     "name": "stderr",
     "output_type": "stream",
     "text": [
      "2023-10-27 16:53:21.002541: I tensorflow/core/grappler/optimizers/custom_graph_optimizer_registry.cc:113] Plugin optimizer for device_type GPU is enabled.\n"
     ]
    },
    {
     "name": "stdout",
     "output_type": "stream",
     "text": [
      "batch  4  of  6\n"
     ]
    },
    {
     "name": "stderr",
     "output_type": "stream",
     "text": [
      "2023-10-27 16:53:25.355951: I tensorflow/core/grappler/optimizers/custom_graph_optimizer_registry.cc:113] Plugin optimizer for device_type GPU is enabled.\n"
     ]
    },
    {
     "name": "stdout",
     "output_type": "stream",
     "text": [
      "batch  5  of  6\n"
     ]
    },
    {
     "name": "stderr",
     "output_type": "stream",
     "text": [
      "2023-10-27 16:53:29.721496: I tensorflow/core/grappler/optimizers/custom_graph_optimizer_registry.cc:113] Plugin optimizer for device_type GPU is enabled.\n"
     ]
    },
    {
     "name": "stdout",
     "output_type": "stream",
     "text": [
      "batch  0  of  6\n"
     ]
    },
    {
     "name": "stderr",
     "output_type": "stream",
     "text": [
      "2023-10-27 16:53:34.116235: I tensorflow/core/grappler/optimizers/custom_graph_optimizer_registry.cc:113] Plugin optimizer for device_type GPU is enabled.\n"
     ]
    },
    {
     "name": "stdout",
     "output_type": "stream",
     "text": [
      "batch  1  of  6\n"
     ]
    },
    {
     "name": "stderr",
     "output_type": "stream",
     "text": [
      "2023-10-27 16:53:38.480239: I tensorflow/core/grappler/optimizers/custom_graph_optimizer_registry.cc:113] Plugin optimizer for device_type GPU is enabled.\n"
     ]
    },
    {
     "name": "stdout",
     "output_type": "stream",
     "text": [
      "batch  2  of  6\n"
     ]
    },
    {
     "name": "stderr",
     "output_type": "stream",
     "text": [
      "2023-10-27 16:53:42.859719: I tensorflow/core/grappler/optimizers/custom_graph_optimizer_registry.cc:113] Plugin optimizer for device_type GPU is enabled.\n"
     ]
    },
    {
     "name": "stdout",
     "output_type": "stream",
     "text": [
      "batch  3  of  6\n"
     ]
    },
    {
     "name": "stderr",
     "output_type": "stream",
     "text": [
      "2023-10-27 16:53:44.208644: I tensorflow/core/grappler/optimizers/custom_graph_optimizer_registry.cc:113] Plugin optimizer for device_type GPU is enabled.\n"
     ]
    },
    {
     "name": "stdout",
     "output_type": "stream",
     "text": [
      "batch  4  of  6\n"
     ]
    },
    {
     "name": "stderr",
     "output_type": "stream",
     "text": [
      "2023-10-27 16:53:45.594197: I tensorflow/core/grappler/optimizers/custom_graph_optimizer_registry.cc:113] Plugin optimizer for device_type GPU is enabled.\n"
     ]
    },
    {
     "name": "stdout",
     "output_type": "stream",
     "text": [
      "batch  5  of  6\n"
     ]
    },
    {
     "name": "stderr",
     "output_type": "stream",
     "text": [
      "2023-10-27 16:53:46.994627: I tensorflow/core/grappler/optimizers/custom_graph_optimizer_registry.cc:113] Plugin optimizer for device_type GPU is enabled.\n"
     ]
    },
    {
     "name": "stdout",
     "output_type": "stream",
     "text": [
      "Calculating Kernel Density Estimation (KDE)...\n",
      "Calculating Kernel Inception Distance (KID)...\n",
      "[  0   1   2   3   4   5   6   7   8   9  10  11  12  13  14  15  16  17\n",
      "  18  19  20  21  22  23  24  25  26  27  28  29  30  31  32  33  34  35\n",
      "  36  37  38  39  40  41  42  43  44  45  46  47  48  49  50  51  52  53\n",
      "  54  55  56  57  58  59  60  61  62  63  64  65  66  67  68  69  70  71\n",
      "  72  73  74  75  76  77  78  79  80  81  82  83  84  85  86  87  88  89\n",
      "  90  91  92  93  94  95  96  97  98  99 100 101 102 103 104 105 106 107\n",
      " 108 109 110 111 112 113 114 115 116 117 118 119 120 121 122 123 124 125\n",
      " 126 127 128 129 130 131 132 133 134 135 136 137 138 139 140 141 142 143\n",
      " 144 145 146 147 148 149 150 151 152 153 154 155 156 157 158 159 160 161\n",
      " 162 163 164 165 166 167 168 169 170 171 172 173 174 175 176 177 178 179\n",
      " 180 181 182 183 184 185 186 187 188 189 190 191 192 193 194 195 196 197\n",
      " 198 199 200 201 202 203 204 205 206 207 208 209 210 211 212 213 214 215\n",
      " 216 217 218 219 220 221 222 223 224 225 226 227 228 229 230 231 232 233\n",
      " 234 235 236 237 238 239 240 241 242 243 244 245 246 247 248 249 250 251\n",
      " 252 253 254 255] [  2   3   4   5   6   7   8   9  10  11  12  13  14  15  16  17  18  19\n",
      "  20  21  22  23  24  25  26  27  28  29  30  31  32  33  34  35  36  37\n",
      "  38  39  40  41  42  43  44  45  46  47  48  49  50  51  52  53  54  55\n",
      "  56  57  58  59  60  61  62  63  64  65  66  67  68  69  70  71  72  73\n",
      "  74  75  76  77  78  79  80  81  82  83  84  85  86  87  88  89  90  91\n",
      "  92  93  94  95  96  97  98  99 100 101 102 103 104 105 106 107 108 109\n",
      " 110 111 112 113 114 115 116 117 118 119 120 121 122 123 124 125 126 127\n",
      " 128 129 130 131 132 133 134 135 136 137 138 139 140 141 142 143 144 145\n",
      " 146 147 148 149 150 151 152 153 154 155 156 157 158 159 160 161 162 163\n",
      " 164 165 166 167 168 169 170 171 172 173 174 175 176 177 178 179 180 181\n",
      " 182 183 184 185 186 187 188 189 190 191 192 193 194 195 196 197 198 199\n",
      " 200 201 202 203 204 205 206 207 208 209 210 211 212 213 214 215 216 217\n",
      " 218 219 220 221 222 223 224 225 226 227 228 229 230 231 232 233 234 235\n",
      " 236 237 238 239 240 241 242 243 244 245 246 247 248 249 250 251 252 253\n",
      " 254]\n",
      "[  0.   1.   2.   3.   4.   5.   6.   7.   8.   9.  10.  11.  12.  13.\n",
      "  14.  15.  16.  17.  18.  19.  20.  21.  22.  23.  24.  25.  26.  27.\n",
      "  28.  29.  30.  31.  32.  33.  34.  35.  36.  37.  38.  39.  40.  41.\n",
      "  42.  43.  44.  45.  46.  47.  48.  49.  50.  51.  52.  53.  54.  55.\n",
      "  56.  57.  58.  59.  60.  61.  62.  63.  64.  65.  66.  67.  68.  69.\n",
      "  70.  71.  72.  73.  74.  75.  76.  77.  78.  79.  80.  81.  82.  83.\n",
      "  84.  85.  86.  87.  88.  89.  90.  91.  92.  93.  94.  95.  96.  97.\n",
      "  98.  99. 100. 101. 102. 103. 104. 105. 106. 107. 108. 109. 110. 111.\n",
      " 112. 113. 114. 115. 116. 117. 118. 119. 120. 121. 122. 123. 124. 125.\n",
      " 126. 127. 128. 129. 130. 131. 132. 133. 134. 135. 136. 137. 138. 139.\n",
      " 140. 141. 142. 143. 144. 145. 146. 147. 148. 149. 150. 151. 152. 153.\n",
      " 154. 155. 156. 157. 158. 159. 160. 161. 162. 163. 164. 165. 166. 167.\n",
      " 168. 169. 170. 171. 172. 173. 174. 175. 176. 177. 178. 179. 180. 181.\n",
      " 182. 183. 184. 185. 186. 187. 188. 189. 190. 191. 192. 193. 194. 195.\n",
      " 196. 197. 198. 199. 200. 201. 202. 203. 204. 205. 206. 207. 208. 209.\n",
      " 210. 211. 212. 213. 214. 215. 216. 217. 218. 219. 220. 221. 222. 223.\n",
      " 224. 225. 226. 227. 228. 229. 230. 231. 232. 233. 234. 235. 236. 237.\n",
      " 238. 239. 240. 241. 242. 243. 244. 245. 246. 247. 248. 249. 250. 251.\n",
      " 252. 253. 254. 255.] [  2.   3.   4.   5.   6.   7.   8.   9.  10.  11.  12.  13.  14.  15.\n",
      "  16.  17.  18.  19.  20.  21.  22.  23.  24.  25.  26.  27.  28.  29.\n",
      "  30.  31.  32.  33.  34.  35.  36.  37.  38.  39.  40.  41.  42.  43.\n",
      "  44.  45.  46.  47.  48.  49.  50.  51.  52.  53.  54.  55.  56.  57.\n",
      "  58.  59.  60.  61.  62.  63.  64.  65.  66.  67.  68.  69.  70.  71.\n",
      "  72.  73.  74.  75.  76.  77.  78.  79.  80.  81.  82.  83.  84.  85.\n",
      "  86.  87.  88.  89.  90.  91.  92.  93.  94.  95.  96.  97.  98.  99.\n",
      " 100. 101. 102. 103. 104. 105. 106. 107. 108. 109. 110. 111. 112. 113.\n",
      " 114. 115. 116. 117. 118. 119. 120. 121. 122. 123. 124. 125. 126. 127.\n",
      " 128. 129. 130. 131. 132. 133. 134. 135. 136. 137. 138. 139. 140. 141.\n",
      " 142. 143. 144. 145. 146. 147. 148. 149. 150. 151. 152. 153. 154. 155.\n",
      " 156. 157. 158. 159. 160. 161. 162. 163. 164. 165. 166. 167. 168. 169.\n",
      " 170. 171. 172. 173. 174. 175. 176. 177. 178. 179. 180. 181. 182. 183.\n",
      " 184. 185. 186. 187. 188. 189. 190. 191. 192. 193. 194. 195. 196. 197.\n",
      " 198. 199. 200. 201. 202. 203. 204. 205. 206. 207. 208. 209. 210. 211.\n",
      " 212. 213. 214. 215. 216. 217. 218. 219. 220. 221. 222. 223. 224. 225.\n",
      " 226. 227. 228. 229. 230. 231. 232. 233. 234. 235. 236. 237. 238. 239.\n",
      " 240. 241. 242. 243. 244. 245. 246. 247. 248. 249. 250. 251. 252. 253.\n",
      " 254.]\n",
      "196.0 196.0\n",
      "(12288, 12288) (12288, 12288)\n",
      "tf.Tensor(60589304.0, shape=(), dtype=float32)\n",
      "Calculating Semantic seg score (SSS)...\n"
     ]
    },
    {
     "name": "stderr",
     "output_type": "stream",
     "text": [
      "2023-10-27 16:53:58.436032: I tensorflow/core/grappler/optimizers/custom_graph_optimizer_registry.cc:113] Plugin optimizer for device_type GPU is enabled.\n"
     ]
    },
    {
     "name": "stdout",
     "output_type": "stream",
     "text": [
      "Saving jsons for pix2pix_mask_3_sim\n",
      "Results saved as JSON.\n"
     ]
    }
   ],
   "source": [
    "task_type='donkey'\n",
    "model_type,source_name='sim','sim'\n",
    "calculate_scores(task_type,model_type,source_name)\n",
    "model_type='cyclegan'\n",
    "source_names=['cyclegan_1','cyclegan_2','cyclegan_3']\n",
    "for source_name in source_names:\n",
    "    calculate_scores(task_type,model_type,source_name)\n",
    "model_type='pix2pix_mask_manual'\n",
    "source_names=['pix2pix_mask_1_sim','pix2pix_mask_2_sim','pix2pix_mask_3_sim']\n",
    "for source_name in source_names:\n",
    "    calculate_scores(task_type,model_type,source_name)"
   ]
  },
  {
   "cell_type": "code",
   "execution_count": null,
   "id": "93f16c96",
   "metadata": {},
   "outputs": [],
   "source": []
  }
 ],
 "metadata": {
  "kernelspec": {
   "display_name": "tfEnv4",
   "language": "python",
   "name": "python3"
  },
  "language_info": {
   "codemirror_mode": {
    "name": "ipython",
    "version": 3
   },
   "file_extension": ".py",
   "mimetype": "text/x-python",
   "name": "python",
   "nbconvert_exporter": "python",
   "pygments_lexer": "ipython3",
   "version": "3.9.16"
  }
 },
 "nbformat": 4,
 "nbformat_minor": 5
}
